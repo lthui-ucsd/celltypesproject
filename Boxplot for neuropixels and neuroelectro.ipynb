{
 "cells": [
  {
   "cell_type": "markdown",
   "metadata": {},
   "source": [
    "**WRANGLING NEUROELECTRO DATA**"
   ]
  },
  {
   "cell_type": "code",
   "execution_count": 10,
   "metadata": {},
   "outputs": [
    {
     "name": "stdout",
     "output_type": "stream",
     "text": [
      "    FiringFrequency  SpikeHalfWidth  SpikeAmplitude\n",
      "0               NaN            0.54             NaN\n",
      "1               NaN            0.84             NaN\n",
      "2               NaN            1.70            85.0\n",
      "3               NaN            0.79             NaN\n",
      "4               NaN            1.70            80.0\n",
      "5             118.0             NaN            74.5\n",
      "6               NaN            0.55            92.2\n",
      "7               NaN            1.30            73.9\n",
      "8               NaN            1.18             NaN\n",
      "9               NaN             NaN             NaN\n",
      "10              NaN            1.10            76.0\n",
      "11              NaN            0.57             NaN\n",
      "    FiringFrequency  SpikeHalfWidth  SpikeAmplitude\n",
      "0               NaN            0.40             NaN\n",
      "1               NaN             NaN             NaN\n",
      "2               NaN             NaN             NaN\n",
      "3               NaN            0.67             NaN\n",
      "4             206.0             NaN             NaN\n",
      "5               NaN            0.80           56.00\n",
      "6               NaN            0.83           57.50\n",
      "7               NaN            0.80             NaN\n",
      "8               NaN            0.80             NaN\n",
      "9               NaN             NaN             NaN\n",
      "10              NaN             NaN           82.60\n",
      "11              NaN            1.52             NaN\n",
      "12              NaN            0.83           92.00\n",
      "13              NaN             NaN             NaN\n",
      "14              NaN            0.95          112.00\n",
      "15              NaN            0.90             NaN\n",
      "16              NaN            0.76           93.55\n",
      "17              NaN             NaN           87.00\n",
      "18              NaN             NaN           90.20\n",
      "19              NaN             NaN             NaN\n",
      "20              NaN             NaN             NaN\n",
      "21              NaN             NaN             NaN\n",
      "22              NaN             NaN             NaN\n",
      "23              NaN             NaN             NaN\n",
      "24             33.2             NaN             NaN\n",
      "25              NaN             NaN             NaN\n",
      "26              NaN            1.60          106.80\n",
      "27              NaN             NaN             NaN\n",
      "28              NaN             NaN           77.30\n",
      "29              NaN             NaN             NaN\n",
      "30              NaN             NaN             NaN\n",
      "31              NaN             NaN           70.94\n",
      "32              NaN             NaN           77.37\n",
      "33              NaN            0.76           77.60\n",
      "34              NaN            1.20             NaN\n",
      "35              NaN             NaN             NaN\n",
      "36              NaN            1.90             NaN\n",
      "37              NaN            1.15             NaN\n",
      "38              NaN             NaN             NaN\n",
      "39             86.0             NaN             NaN\n",
      "40              NaN             NaN             NaN\n",
      "41              NaN             NaN             NaN\n",
      "42              NaN             NaN             NaN\n",
      "43              NaN            1.90             NaN\n"
     ]
    }
   ],
   "source": [
    "import pandas as pd\n",
    "import numpy as np\n",
    "import matplotlib.pyplot as plt\n",
    "df = pd.read_excel ('neurophysiology_data.xlsx')\n",
    "mouse_df = pd.DataFrame (df)\n",
    "mouse_df\n",
    "\n",
    "#pull out all the rows where \"CA3\" is in the NeuroType column and create a new DataFrame \n",
    "df_CA3 = df[df['NeuronType'].str.contains('CA3')].reset_index(drop=True)\n",
    "df_CA3\n",
    "\n",
    "#did the same thing for CA1 cells \n",
    "df_CA1 = df[df['NeuronType'].str.contains('CA1')].reset_index(drop=True)\n",
    "df_CA1\n",
    "\n",
    "#get all the columns of df_CA3 with ephys we are interested in\n",
    "print(df_CA3[['FiringFrequency','SpikeHalfWidth','SpikeAmplitude']])\n",
    "\n",
    "#did the same thing for df_CA1\n",
    "print(df_CA1[['FiringFrequency','SpikeHalfWidth','SpikeAmplitude']])"
   ]
  },
  {
   "cell_type": "markdown",
   "metadata": {},
   "source": [
    "**WRANGLING ALLEN NEUROPIXEL DATA**"
   ]
  },
  {
   "cell_type": "code",
   "execution_count": 2,
   "metadata": {},
   "outputs": [
    {
     "name": "stdout",
     "output_type": "stream",
     "text": [
      "unit_id\n",
      "950911195     8.201781\n",
      "950911223    15.087965\n",
      "950911266    23.864839\n",
      "950911286     2.396609\n",
      "950912928     0.983724\n",
      "               ...    \n",
      "950954922     3.566261\n",
      "950955053    16.898391\n",
      "950955212     4.665299\n",
      "950955361     3.913271\n",
      "950955399    24.848122\n",
      "Name: firing_rate, Length: 145, dtype: float64\n"
     ]
    }
   ],
   "source": [
    "# Import the Neuropixels Cache\n",
    "from allensdk.brain_observatory.ecephys.ecephys_project_cache import EcephysProjectCache\n",
    "\n",
    "# We have all of this data on the datahub! This is where it lives.\n",
    "manifest_path = '/datasets/allen-brain-observatory/visual-coding-neuropixels/ecephys-cache/manifest.json' \n",
    "\n",
    "# Create the EcephysProjectCache object\n",
    "cache = EcephysProjectCache.fixed(manifest=manifest_path)\n",
    "\n",
    "# Get the sessions available in this dataset\n",
    "sessions = cache.get_session_table()\n",
    "session_ca1_list = []\n",
    "\n",
    "for idx,structure_list in enumerate(sessions['ecephys_structure_acronyms']):\n",
    "    if 'CA1' in structure_list:\n",
    "        session_ca1_list.append(sessions.index[idx])   \n",
    "\n",
    "session_ca3_list = []\n",
    "\n",
    "for idx,structure_list in enumerate(sessions['ecephys_structure_acronyms']):\n",
    "    if 'CA3' in structure_list:\n",
    "        session_ca3_list.append(sessions.index[idx]) \n",
    "        \n",
    "        \n",
    "session = cache.get_session_data(session_ca3_list[0])\n",
    "allen_ca3 = session.units[session.units.ecephys_structure_acronym=='CA3']\n",
    "allen_ca3_amplitude = allen_ca3['waveform_amplitude']\n",
    "allen_ca3_half_width = allen_ca3['waveform_halfwidth']\n",
    "allen_ca3_firing_rate = allen_ca3['firing_rate']\n",
    "\n",
    "session_a = cache.get_session_data(session_ca1_list[0])\n",
    "allen_ca1 = session_a.units[session.units.ecephys_structure_acronym == 'CA1']\n",
    "allen_ca1_amplitude = allen_ca1['waveform_amplitude']\n",
    "allen_ca1_half_width = allen_ca1['waveform_halfwidth']\n",
    "allen_ca1_firing_rate = allen_ca1['firing_rate']\n",
    "\n",
    "print(allen_ca1_firing_rate)"
   ]
  },
  {
   "cell_type": "markdown",
   "metadata": {},
   "source": [
    "**FIRING RATE BOX PLOT FOR CA1**"
   ]
  },
  {
   "cell_type": "code",
   "execution_count": 12,
   "metadata": {},
   "outputs": [
    {
     "name": "stderr",
     "output_type": "stream",
     "text": [
      "/opt/conda/lib/python3.6/site-packages/matplotlib/cbook/__init__.py:1316: RuntimeWarning: invalid value encountered in less_equal\n",
      "  wiskhi = x[x <= hival]\n",
      "/opt/conda/lib/python3.6/site-packages/matplotlib/cbook/__init__.py:1323: RuntimeWarning: invalid value encountered in greater_equal\n",
      "  wisklo = x[x >= loval]\n",
      "/opt/conda/lib/python3.6/site-packages/matplotlib/cbook/__init__.py:1331: RuntimeWarning: invalid value encountered in less\n",
      "  x[x < stats['whislo']],\n",
      "/opt/conda/lib/python3.6/site-packages/matplotlib/cbook/__init__.py:1332: RuntimeWarning: invalid value encountered in greater\n",
      "  x[x > stats['whishi']],\n"
     ]
    },
    {
     "data": {
      "image/png": "[encoded data removed]",
      "text/plain": [
       "<Figure size 360x360 with 1 Axes>"
      ]
     },
     "metadata": {
      "needs_background": "light"
     },
     "output_type": "display_data"
    }
   ],
   "source": [
    "fig,ax = plt.subplots(figsize=(5,5))\n",
    "data = [allen_ca1_firing_rate, df_CA1[['FiringFrequency']]]\n",
    "plt.boxplot(data)\n",
    "ax.set_xticklabels(['Allen Brain Neuropixels','Neuroelectro'])\n",
    "ax.set_ylabel('m/s')\n",
    "ax.set_title('Neuropixels vs Neuroelectro Firing Rate')\n",
    "plt.show()"
   ]
  },
  {
   "cell_type": "markdown",
   "metadata": {},
   "source": [
    "**FIRING RATE BOX PLOT FOR CA3**"
   ]
  },
  {
   "cell_type": "code",
   "execution_count": 14,
   "metadata": {},
   "outputs": [
    {
     "name": "stderr",
     "output_type": "stream",
     "text": [
      "/opt/conda/lib/python3.6/site-packages/matplotlib/cbook/__init__.py:1316: RuntimeWarning: invalid value encountered in less_equal\n",
      "  wiskhi = x[x <= hival]\n",
      "/opt/conda/lib/python3.6/site-packages/matplotlib/cbook/__init__.py:1323: RuntimeWarning: invalid value encountered in greater_equal\n",
      "  wisklo = x[x >= loval]\n",
      "/opt/conda/lib/python3.6/site-packages/matplotlib/cbook/__init__.py:1331: RuntimeWarning: invalid value encountered in less\n",
      "  x[x < stats['whislo']],\n",
      "/opt/conda/lib/python3.6/site-packages/matplotlib/cbook/__init__.py:1332: RuntimeWarning: invalid value encountered in greater\n",
      "  x[x > stats['whishi']],\n"
     ]
    },
    {
     "data": {
      "image/png": "[encoded data removed]",
      "text/plain": [
       "<Figure size 360x360 with 1 Axes>"
      ]
     },
     "metadata": {
      "needs_background": "light"
     },
     "output_type": "display_data"
    }
   ],
   "source": [
    "fig,ax = plt.subplots(figsize=(5,5))\n",
    "data = [allen_ca3_firing_rate, df_CA3[['FiringFrequency']]]\n",
    "plt.boxplot(data)\n",
    "ax.set_xticklabels(['Allen Brain Neuropixels','Neuroelectro'])\n",
    "ax.set_ylabel('m/s')\n",
    "ax.set_title('Neuropixels vs Neuroelectro Firing Rate')\n",
    "plt.show()"
   ]
  },
  {
   "cell_type": "markdown",
   "metadata": {},
   "source": [
    "**SPIKE HALF WIDTH BOX PLOT FOR CA1**"
   ]
  },
  {
   "cell_type": "code",
   "execution_count": 15,
   "metadata": {},
   "outputs": [
    {
     "name": "stderr",
     "output_type": "stream",
     "text": [
      "/opt/conda/lib/python3.6/site-packages/matplotlib/cbook/__init__.py:1316: RuntimeWarning: invalid value encountered in less_equal\n",
      "  wiskhi = x[x <= hival]\n",
      "/opt/conda/lib/python3.6/site-packages/matplotlib/cbook/__init__.py:1323: RuntimeWarning: invalid value encountered in greater_equal\n",
      "  wisklo = x[x >= loval]\n",
      "/opt/conda/lib/python3.6/site-packages/matplotlib/cbook/__init__.py:1331: RuntimeWarning: invalid value encountered in less\n",
      "  x[x < stats['whislo']],\n",
      "/opt/conda/lib/python3.6/site-packages/matplotlib/cbook/__init__.py:1332: RuntimeWarning: invalid value encountered in greater\n",
      "  x[x > stats['whishi']],\n"
     ]
    },
    {
     "data": {
      "image/png": "[encoded data removed]",
      "text/plain": [
       "<Figure size 360x360 with 1 Axes>"
      ]
     },
     "metadata": {
      "needs_background": "light"
     },
     "output_type": "display_data"
    }
   ],
   "source": [
    "fig,ax = plt.subplots(figsize=(5,5))\n",
    "data = [allen_ca1_half_width, df_CA1[['SpikeHalfWidth']]]\n",
    "plt.boxplot(data)\n",
    "ax.set_xticklabels(['Allen Brain Neuropixels','Neuroelectro'])\n",
    "ax.set_ylabel('m/s')\n",
    "ax.set_title('Neuropixels vs Neuroelectro Half Width')\n",
    "plt.show()"
   ]
  },
  {
   "cell_type": "markdown",
   "metadata": {},
   "source": [
    "**SPIKE HALF WIDTH BOX PLOT FOR CA3**"
   ]
  },
  {
   "cell_type": "code",
   "execution_count": 17,
   "metadata": {},
   "outputs": [
    {
     "name": "stderr",
     "output_type": "stream",
     "text": [
      "/opt/conda/lib/python3.6/site-packages/matplotlib/cbook/__init__.py:1316: RuntimeWarning: invalid value encountered in less_equal\n",
      "  wiskhi = x[x <= hival]\n",
      "/opt/conda/lib/python3.6/site-packages/matplotlib/cbook/__init__.py:1323: RuntimeWarning: invalid value encountered in greater_equal\n",
      "  wisklo = x[x >= loval]\n",
      "/opt/conda/lib/python3.6/site-packages/matplotlib/cbook/__init__.py:1331: RuntimeWarning: invalid value encountered in less\n",
      "  x[x < stats['whislo']],\n",
      "/opt/conda/lib/python3.6/site-packages/matplotlib/cbook/__init__.py:1332: RuntimeWarning: invalid value encountered in greater\n",
      "  x[x > stats['whishi']],\n"
     ]
    },
    {
     "data": {
      "image/png": "[encoded data removed]",
      "text/plain": [
       "<Figure size 360x360 with 1 Axes>"
      ]
     },
     "metadata": {
      "needs_background": "light"
     },
     "output_type": "display_data"
    }
   ],
   "source": [
    "fig,ax = plt.subplots(figsize=(5,5))\n",
    "data = [allen_ca3_half_width, df_CA3[['SpikeHalfWidth']]]\n",
    "plt.boxplot(data)\n",
    "ax.set_xticklabels(['Allen Brain Neuropixels','Neuroelectro'])\n",
    "ax.set_ylabel('m/s')\n",
    "ax.set_title('Neuropixels vs Neuroelectro Half Width')\n",
    "plt.show()"
   ]
  },
  {
   "cell_type": "markdown",
   "metadata": {},
   "source": [
    "**WAVEFORM AMPLITUDE BOX PLOT FOR CA1**"
   ]
  },
  {
   "cell_type": "code",
   "execution_count": 18,
   "metadata": {},
   "outputs": [
    {
     "name": "stderr",
     "output_type": "stream",
     "text": [
      "/opt/conda/lib/python3.6/site-packages/matplotlib/cbook/__init__.py:1316: RuntimeWarning: invalid value encountered in less_equal\n",
      "  wiskhi = x[x <= hival]\n",
      "/opt/conda/lib/python3.6/site-packages/matplotlib/cbook/__init__.py:1323: RuntimeWarning: invalid value encountered in greater_equal\n",
      "  wisklo = x[x >= loval]\n",
      "/opt/conda/lib/python3.6/site-packages/matplotlib/cbook/__init__.py:1331: RuntimeWarning: invalid value encountered in less\n",
      "  x[x < stats['whislo']],\n",
      "/opt/conda/lib/python3.6/site-packages/matplotlib/cbook/__init__.py:1332: RuntimeWarning: invalid value encountered in greater\n",
      "  x[x > stats['whishi']],\n"
     ]
    },
    {
     "data": {
      "image/png": "[encoded data removed]",
      "text/plain": [
       "<Figure size 360x360 with 1 Axes>"
      ]
     },
     "metadata": {
      "needs_background": "light"
     },
     "output_type": "display_data"
    }
   ],
   "source": [
    "fig,ax = plt.subplots(figsize=(5,5))\n",
    "data = [allen_ca1_amplitude, df_CA1[['SpikeAmplitude']]]\n",
    "plt.boxplot(data)\n",
    "ax.set_xticklabels(['Allen Brain Neuropixels','Neuroelectro'])\n",
    "ax.set_ylabel('m/s')\n",
    "ax.set_title('Neuropixels vs Neuroelectro Spike Amplitude')\n",
    "plt.show()"
   ]
  },
  {
   "cell_type": "markdown",
   "metadata": {},
   "source": [
    "**WAVEFORM AMPLITUDE BOX PLOT FOR CA3**"
   ]
  },
  {
   "cell_type": "code",
   "execution_count": 20,
   "metadata": {},
   "outputs": [
    {
     "name": "stderr",
     "output_type": "stream",
     "text": [
      "/opt/conda/lib/python3.6/site-packages/matplotlib/cbook/__init__.py:1316: RuntimeWarning: invalid value encountered in less_equal\n",
      "  wiskhi = x[x <= hival]\n",
      "/opt/conda/lib/python3.6/site-packages/matplotlib/cbook/__init__.py:1323: RuntimeWarning: invalid value encountered in greater_equal\n",
      "  wisklo = x[x >= loval]\n",
      "/opt/conda/lib/python3.6/site-packages/matplotlib/cbook/__init__.py:1331: RuntimeWarning: invalid value encountered in less\n",
      "  x[x < stats['whislo']],\n",
      "/opt/conda/lib/python3.6/site-packages/matplotlib/cbook/__init__.py:1332: RuntimeWarning: invalid value encountered in greater\n",
      "  x[x > stats['whishi']],\n"
     ]
    },
    {
     "data": {
      "image/png": "[encoded data removed]",
      "text/plain": [
       "<Figure size 360x360 with 1 Axes>"
      ]
     },
     "metadata": {
      "needs_background": "light"
     },
     "output_type": "display_data"
    }
   ],
   "source": [
    "fig,ax = plt.subplots(figsize=(5,5))\n",
    "data = [allen_ca3_amplitude, df_CA3[['SpikeAmplitude']]]\n",
    "plt.boxplot(data)\n",
    "ax.set_xticklabels(['Allen Brain Neuropixels','Neuroelectro'])\n",
    "ax.set_ylabel('m/s')\n",
    "ax.set_title('Neuropixels vs Neuroelectro Spike Amplitude')\n",
    "plt.show()"
   ]
  },
  {
   "cell_type": "code",
   "execution_count": null,
   "metadata": {},
   "outputs": [],
   "source": []
  }
 ],
 "metadata": {
  "kernelspec": {
   "display_name": "Python 3",
   "language": "python",
   "name": "python3"
  },
  "language_info": {
   "codemirror_mode": {
    "name": "ipython",
    "version": 3
   },
   "file_extension": ".py",
   "mimetype": "text/x-python",
   "name": "python",
   "nbconvert_exporter": "python",
   "pygments_lexer": "ipython3",
   "version": "3.6.7"
  }
 },
 "nbformat": 4,
 "nbformat_minor": 2
}
