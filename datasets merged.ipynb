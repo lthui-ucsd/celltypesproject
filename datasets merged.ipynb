{
 "cells": [
  {
   "cell_type": "markdown",
   "metadata": {},
   "source": [
    "# Comparing CA3 and CA1 Neuron Electrophysiology\n"
   ]
  },
  {
   "cell_type": "markdown",
   "metadata": {},
   "source": [
    "# Team Member Names & Contributions\n",
    "*Feel free to name your team, but please also include your real names and IDs here. Please specify who in your group worked on which parts of the project.*\n",
    "\n",
    "- **Yudi Hu A13488186**: Compiling data; analysis; discussion\n",
    "- **Sunnie Hong**: Compiling data; graphs; analysis\n",
    "- **Lauren Hui**: Compiling data; abstract; background"
   ]
  },
  {
   "cell_type": "markdown",
   "metadata": {},
   "source": [
    "## Abstract"
   ]
  },
  {
   "cell_type": "markdown",
   "metadata": {},
   "source": [
    "*In the hippocampus, it is known that CA3 neurons project to CA1 neurons. In this project, we examine the relationship between the two neuron types by comparing the similarities and differences in firing rate, spike half-width, and spike amplitude. We determined that firing rate between CA1 and CA3 was relatively similar with a p-value of ___, *"
   ]
  },
  {
   "cell_type": "markdown",
   "metadata": {},
   "source": [
    "## Research Question"
   ]
  },
  {
   "cell_type": "markdown",
   "metadata": {},
   "source": [
    "How does the electrophysiology of CA3 neurons compare to that of CA1 neurons in the hippocampus?\n",
    "\n",
    "* Is the firing rate similar?\n",
    "* Is the spike half-width similar?\n",
    "* Are waveform amplitude and spike amplitude comparable?"
   ]
  },
  {
   "cell_type": "markdown",
   "metadata": {},
   "source": [
    "# Background and Prior Work"
   ]
  },
  {
   "cell_type": "markdown",
   "metadata": {},
   "source": [
    "   The hippocampus is home to a host of important functions such as learning and memory, and its ability to serve these vital functions is dependent on its circuitry. The perforant pathway, which originates in the entorhinal cortex and terminates on granule cells in the dentate gyrus, is the major afferent pathway to the hippocampus. Fibers project from the entorhinal cortex to the CA3 region and the CA1 region. In Figure 5 (Doller et al. 1982), CA3 stimulation resulted in similar recordings in CA1 neurons, but the recordings differed compared to those from perforant pathway stimulation. This difference suggests that the origin of stimulation has an effect on activity of the CA1 region. Following activation of this circuit, depolarization of the CA3 neurons causes a smaller depolarization in the CA1 neuron as seen in Figure 6 (Ferrea et al. 2012). \n",
    "   \n",
    "   Because of the complexity of CA3 projections to the CA1 cells, we would like to examine the differences and similarities in CA3 and CA1 electrophysiology, including the firing rate and the spike half-width. The CA3/CA1 hippocampal circuit was of interest to us because alterations to this pathway may have a profound effect on learning and memory. Examining the activity of CA3 and CA1 action potentials will help us gain a better understanding of how the circuit interacts with each segment. \n",
    "   \n",
    "   For this project, we are using data sets from NeuroElectro and Neuropixels to compare electrophysiology data. NeuroElectro... Neuropixels\n",
    "\n",
    "\n",
    "### References (include links):\n",
    "(1) Doller, Herbert J., and Forrest F. Weight. “Perforant Pathway Activation of Hippocampal CA1 Stratum Pyramidale Neurons: Electrophysiological Evidence for a Direct Pathway.” Brain Research, Elsevier, 7 Mar. 2003.\n",
    "\n",
    "(2) Ferrea, et al. “Large-Scale, High-Resolution Electrophysiological Imaging of Field \n",
    "Potentials in Brain Slices with Microelectronic Multielectrode Arrays.” Frontiers, Frontiers, 17 Oct. 2012."
   ]
  },
  {
   "cell_type": "markdown",
   "metadata": {},
   "source": [
    "## Hypothesis\n"
   ]
  },
  {
   "cell_type": "markdown",
   "metadata": {},
   "source": [
    "*Fill in your hypotheses here*"
   ]
  },
  {
   "cell_type": "markdown",
   "metadata": {},
   "source": [
    "## Setup\n",
    "*Are there packages that need to be imported, or datasets that need to be downloaded?*"
   ]
  },
  {
   "cell_type": "code",
   "execution_count": 2,
   "metadata": {},
   "outputs": [],
   "source": [
    "import pandas as pd\n",
    "import numpy as np\n",
    "import matplotlib as mpl\n",
    "import matplotlib.pyplot as plt"
   ]
  },
  {
   "cell_type": "markdown",
   "metadata": {},
   "source": [
    "## Data Wrangling"
   ]
  },
  {
   "cell_type": "markdown",
   "metadata": {},
   "source": [
    "Describe your data wrangling steps here."
   ]
  },
  {
   "cell_type": "code",
   "execution_count": 3,
   "metadata": {},
   "outputs": [
    {
     "name": "stdout",
     "output_type": "stream",
     "text": [
      "    FiringFrequency  SpikeHalfWidth  SpikeAmplitude\n",
      "0               NaN            0.54             NaN\n",
      "1               NaN            0.84             NaN\n",
      "2               NaN            1.70            85.0\n",
      "3               NaN            0.79             NaN\n",
      "4               NaN            1.70            80.0\n",
      "5             118.0             NaN            74.5\n",
      "6               NaN            0.55            92.2\n",
      "7               NaN            1.30            73.9\n",
      "8               NaN            1.18             NaN\n",
      "9               NaN             NaN             NaN\n",
      "10              NaN            1.10            76.0\n",
      "11              NaN            0.57             NaN\n",
      "    FiringFrequency  SpikeHalfWidth  SpikeAmplitude\n",
      "0               NaN            0.40             NaN\n",
      "1               NaN             NaN             NaN\n",
      "2               NaN             NaN             NaN\n",
      "3               NaN            0.67             NaN\n",
      "4             206.0             NaN             NaN\n",
      "5               NaN            0.80           56.00\n",
      "6               NaN            0.83           57.50\n",
      "7               NaN            0.80             NaN\n",
      "8               NaN            0.80             NaN\n",
      "9               NaN             NaN             NaN\n",
      "10              NaN             NaN           82.60\n",
      "11              NaN            1.52             NaN\n",
      "12              NaN            0.83           92.00\n",
      "13              NaN             NaN             NaN\n",
      "14              NaN            0.95          112.00\n",
      "15              NaN            0.90             NaN\n",
      "16              NaN            0.76           93.55\n",
      "17              NaN             NaN           87.00\n",
      "18              NaN             NaN           90.20\n",
      "19              NaN             NaN             NaN\n",
      "20              NaN             NaN             NaN\n",
      "21              NaN             NaN             NaN\n",
      "22              NaN             NaN             NaN\n",
      "23              NaN             NaN             NaN\n",
      "24             33.2             NaN             NaN\n",
      "25              NaN             NaN             NaN\n",
      "26              NaN            1.60          106.80\n",
      "27              NaN             NaN             NaN\n",
      "28              NaN             NaN           77.30\n",
      "29              NaN             NaN             NaN\n",
      "30              NaN             NaN             NaN\n",
      "31              NaN             NaN           70.94\n",
      "32              NaN             NaN           77.37\n",
      "33              NaN            0.76           77.60\n",
      "34              NaN            1.20             NaN\n",
      "35              NaN             NaN             NaN\n",
      "36              NaN            1.90             NaN\n",
      "37              NaN            1.15             NaN\n",
      "38              NaN             NaN             NaN\n",
      "39             86.0             NaN             NaN\n",
      "40              NaN             NaN             NaN\n",
      "41              NaN             NaN             NaN\n",
      "42              NaN             NaN             NaN\n",
      "43              NaN            1.90             NaN\n"
     ]
    }
   ],
   "source": [
    "#Import the NeuroElectro Data\n",
    "df = pd.read_excel ('neurophysiology_data.xlsx')\n",
    "mouse_df = pd.DataFrame (df)\n",
    "mouse_df\n",
    "\n",
    "#pull out all the rows where \"CA3\" is in the NeuroType column and create a new DataFrame \n",
    "df_CA3 = df[df['NeuronType'].str.contains('CA3')].reset_index(drop=True)\n",
    "df_CA3\n",
    "\n",
    "#did the same thing for CA1 cells \n",
    "df_CA1 = df[df['NeuronType'].str.contains('CA1')].reset_index(drop=True)\n",
    "df_CA1\n",
    "\n",
    "#get all the columns of df_CA3 with ephys we are interested in\n",
    "print(df_CA3[['FiringFrequency','SpikeHalfWidth','SpikeAmplitude']])\n",
    "\n",
    "#did the same thing for df_CA1\n",
    "print(df_CA1[['FiringFrequency','SpikeHalfWidth','SpikeAmplitude']])"
   ]
  },
  {
   "cell_type": "code",
   "execution_count": 4,
   "metadata": {},
   "outputs": [
    {
     "name": "stdout",
     "output_type": "stream",
     "text": [
      "unit_id\n",
      "950911195     8.201781\n",
      "950911223    15.087965\n",
      "950911266    23.864839\n",
      "950911286     2.396609\n",
      "950912928     0.983724\n",
      "               ...    \n",
      "950954922     3.566261\n",
      "950955053    16.898391\n",
      "950955212     4.665299\n",
      "950955361     3.913271\n",
      "950955399    24.848122\n",
      "Name: firing_rate, Length: 145, dtype: float64\n"
     ]
    }
   ],
   "source": [
    "# Import the Neuropixels Cache\n",
    "from allensdk.brain_observatory.ecephys.ecephys_project_cache import EcephysProjectCache\n",
    "\n",
    "# We have all of this data on the datahub! This is where it lives.\n",
    "manifest_path = '/datasets/allen-brain-observatory/visual-coding-neuropixels/ecephys-cache/manifest.json' \n",
    "\n",
    "# Create the EcephysProjectCache object\n",
    "cache = EcephysProjectCache.fixed(manifest=manifest_path)\n",
    "\n",
    "# Get the sessions available in this dataset\n",
    "sessions = cache.get_session_table()\n",
    "session_ca1_list = []\n",
    "\n",
    "for idx,structure_list in enumerate(sessions['ecephys_structure_acronyms']):\n",
    "    if 'CA1' in structure_list:\n",
    "        session_ca1_list.append(sessions.index[idx])   \n",
    "\n",
    "session_ca3_list = []\n",
    "\n",
    "for idx,structure_list in enumerate(sessions['ecephys_structure_acronyms']):\n",
    "    if 'CA3' in structure_list:\n",
    "        session_ca3_list.append(sessions.index[idx]) \n",
    "        \n",
    "        \n",
    "session = cache.get_session_data(session_ca3_list[0])\n",
    "allen_ca3 = session.units[session.units.ecephys_structure_acronym=='CA3']\n",
    "allen_ca3_amplitude = allen_ca3['waveform_amplitude']\n",
    "allen_ca3_half_width = allen_ca3['waveform_halfwidth']\n",
    "allen_ca3_firing_rate = allen_ca3['firing_rate']\n",
    "\n",
    "session_a = cache.get_session_data(session_ca1_list[0])\n",
    "allen_ca1 = session_a.units[session.units.ecephys_structure_acronym == 'CA1']\n",
    "allen_ca1_amplitude = allen_ca1['waveform_amplitude']\n",
    "allen_ca1_half_width = allen_ca1['waveform_halfwidth']\n",
    "allen_ca1_firing_rate = allen_ca1['firing_rate']\n",
    "\n",
    "print(allen_ca1_firing_rate)"
   ]
  },
  {
   "cell_type": "markdown",
   "metadata": {},
   "source": [
    "## Data Analysis & Results"
   ]
  },
  {
   "cell_type": "markdown",
   "metadata": {},
   "source": [
    "Include cells that describe the steps in your data analysis."
   ]
  },
  {
   "cell_type": "code",
   "execution_count": 5,
   "metadata": {},
   "outputs": [
    {
     "name": "stdout",
     "output_type": "stream",
     "text": [
      "There are 52 sessions that meet this criteria:\n",
      "[715093703, 719161530, 721123822, 743475441, 744228101, 746083955, 750332458, 750749662, 751348571, 754312389, 754829445, 755434585, 756029989, 757216464, 757970808, 758798717, 759883607, 760345702, 761418226, 762602078, 763673393, 766640955, 767871931, 768515987, 771160300, 771990200, 773418906, 774875821, 778240327, 778998620, 779839471, 781842082, 786091066, 787025148, 789848216, 791319847, 793224716, 794812542, 797828357, 798911424, 799864342, 816200189, 819186360, 819701982, 821695405, 829720705, 831882777, 835479236, 839068429, 839557629, 840012044, 847657808]\n"
     ]
    }
   ],
   "source": [
    "# Create a session list for CA1 based on some criteria from Neuropixels\n",
    "\n",
    "session_ca1_list = []\n",
    "\n",
    "for idx,structure_list in enumerate(sessions['ecephys_structure_acronyms']):\n",
    "    if 'CA1' in structure_list:\n",
    "        session_ca1_list.append(sessions.index[idx])   \n",
    "        \n",
    "print('There are '+str(len(session_ca1_list))+' sessions that meet this criteria:')\n",
    "print(session_ca1_list)"
   ]
  },
  {
   "cell_type": "code",
   "execution_count": 6,
   "metadata": {},
   "outputs": [
    {
     "name": "stdout",
     "output_type": "stream",
     "text": [
      "There are 50 sessions that meet this criteria:\n",
      "[715093703, 719161530, 721123822, 743475441, 744228101, 746083955, 750332458, 750749662, 751348571, 754312389, 754829445, 755434585, 756029989, 757216464, 757970808, 759883607, 760345702, 761418226, 762602078, 763673393, 766640955, 767871931, 768515987, 771160300, 771990200, 773418906, 774875821, 778240327, 778998620, 779839471, 781842082, 786091066, 787025148, 789848216, 791319847, 793224716, 794812542, 797828357, 798911424, 799864342, 816200189, 819186360, 819701982, 821695405, 829720705, 835479236, 839068429, 839557629, 840012044, 847657808]\n"
     ]
    }
   ],
   "source": [
    "# Create a session list for CA3 based on criteria from Neuropixels\n",
    "\n",
    "session_ca3_list = []\n",
    "\n",
    "for idx,structure_list in enumerate(sessions['ecephys_structure_acronyms']):\n",
    "    if 'CA3' in structure_list:\n",
    "        session_ca3_list.append(sessions.index[idx])   \n",
    "        \n",
    "print('There are '+str(len(session_ca3_list))+' sessions that meet this criteria:')\n",
    "print(session_ca3_list)"
   ]
  },
  {
   "cell_type": "code",
   "execution_count": 20,
   "metadata": {},
   "outputs": [
    {
     "data": {
      "text/plain": [
       "950936572    0.151089\n",
       "950936639    0.096147\n",
       "950936710         NaN\n",
       "950936675    0.178559\n",
       "950936656    0.151089\n",
       "950936759    0.123618\n",
       "950936870    0.920268\n",
       "950936855    1.716918\n",
       "950936727    0.096147\n",
       "950936941    0.164824\n",
       "950936979    0.109883\n",
       "950936908    0.219765\n",
       "950936992    0.164824\n",
       "950937050    0.151089\n",
       "0            0.540000\n",
       "1            0.840000\n",
       "2            1.700000\n",
       "3            0.790000\n",
       "4            1.700000\n",
       "6            0.550000\n",
       "7            1.300000\n",
       "8            1.180000\n",
       "10           1.100000\n",
       "11           0.570000\n",
       "dtype: float64"
      ]
     },
     "execution_count": 20,
     "metadata": {},
     "output_type": "execute_result"
    }
   ],
   "source": [
    "#merge NeuroPixels and Neuroelectro CA1 and CA3 firing rate data \n",
    "frame = [allen_ca1_firing_rate, df_CA1['FiringFrequency'].dropna()]\n",
    "df_result_CA1_firing_rate = pd.concat(frame)\n",
    "df_result_CA1_firing_rate\n",
    "\n",
    "frame = [allen_ca3_firing_rate, df_CA3['FiringFrequency'].dropna()]\n",
    "df_result_CA3_firing_rate = pd.concat(frame)\n",
    "df_result_CA3_firing_rate\n",
    "\n",
    "#merge NeuroPixels and Neuroelectro CA1 and CA3 spike half width data \n",
    "frame = [allen_ca1_half_width, df_CA1['SpikeHalfWidth'].dropna()]\n",
    "df_result_CA1_half_width = pd.concat(frame)\n",
    "df_result_CA1_half_width\n",
    "\n",
    "frame = [allen_ca3_half_width, df_CA3['SpikeHalfWidth'].dropna()]\n",
    "df_result_CA3_half_width = pd.concat(frame)\n",
    "df_result_CA3_half_width"
   ]
  },
  {
   "cell_type": "code",
   "execution_count": 21,
   "metadata": {},
   "outputs": [
    {
     "data": {
      "image/png": "[encoded data removed]",
      "text/plain": [
       "<Figure size 360x360 with 1 Axes>"
      ]
     },
     "metadata": {
      "needs_background": "light"
     },
     "output_type": "display_data"
    }
   ],
   "source": [
    "#boxplot for CA1 and CA3 firing rate data \n",
    "fig,ax = plt.subplots(figsize=(5,5))\n",
    "data = [df_result_CA1_firing_rate, df_result_CA3_firing_rate]\n",
    "plt.boxplot(data)\n",
    "ax.set_xticklabels(['CA1','CA3'])\n",
    "ax.set_ylabel('Hz')\n",
    "ax.set_title('CA1 vs CA3 Firing Rate')\n",
    "plt.show()"
   ]
  },
  {
   "cell_type": "code",
   "execution_count": 17,
   "metadata": {},
   "outputs": [
    {
     "name": "stderr",
     "output_type": "stream",
     "text": [
      "/opt/conda/lib/python3.6/site-packages/matplotlib/cbook/__init__.py:1316: RuntimeWarning: invalid value encountered in less_equal\n",
      "  wiskhi = x[x <= hival]\n",
      "/opt/conda/lib/python3.6/site-packages/matplotlib/cbook/__init__.py:1323: RuntimeWarning: invalid value encountered in greater_equal\n",
      "  wisklo = x[x >= loval]\n",
      "/opt/conda/lib/python3.6/site-packages/matplotlib/cbook/__init__.py:1331: RuntimeWarning: invalid value encountered in less\n",
      "  x[x < stats['whislo']],\n",
      "/opt/conda/lib/python3.6/site-packages/matplotlib/cbook/__init__.py:1332: RuntimeWarning: invalid value encountered in greater\n",
      "  x[x > stats['whishi']],\n"
     ]
    },
    {
     "data": {
      "image/png": "[encoded data removed]",
      "text/plain": [
       "<Figure size 360x360 with 1 Axes>"
      ]
     },
     "metadata": {
      "needs_background": "light"
     },
     "output_type": "display_data"
    }
   ],
   "source": [
    "#boxplot for CA1 and CA3 spike half width data \n",
    "fig,ax = plt.subplots(figsize=(5,5))\n",
    "data = [df_result_CA1_half_width, df_result_CA3_half_width]\n",
    "plt.boxplot(data)\n",
    "ax.set_xticklabels(['CA1','CA3'])\n",
    "ax.set_ylabel('ms')\n",
    "ax.set_title('CA1 vs CA3 Spike Half Width')\n",
    "plt.show()"
   ]
  },
  {
   "cell_type": "code",
   "execution_count": 18,
   "metadata": {},
   "outputs": [
    {
     "data": {
      "image/png": "[encoded data removed]",
      "text/plain": [
       "<Figure size 360x360 with 1 Axes>"
      ]
     },
     "metadata": {
      "needs_background": "light"
     },
     "output_type": "display_data"
    }
   ],
   "source": [
    "#FIRING RATE BOX PLOT FOR CA1\n",
    "fig,ax = plt.subplots(figsize=(5,5))\n",
    "data = [allen_ca1_firing_rate, df_CA1['FiringFrequency'].dropna()]\n",
    "plt.boxplot(data)\n",
    "ax.set_xticklabels(['Allen Brain Neuropixels','Neuroelectro'])\n",
    "ax.set_ylabel('Hz')\n",
    "ax.set_title('Neuropixels vs Neuroelectro Firing Rate')\n",
    "plt.show()"
   ]
  },
  {
   "cell_type": "code",
   "execution_count": 19,
   "metadata": {},
   "outputs": [
    {
     "data": {
      "image/png": "[encoded data removed]",
      "text/plain": [
       "<Figure size 360x360 with 1 Axes>"
      ]
     },
     "metadata": {
      "needs_background": "light"
     },
     "output_type": "display_data"
    }
   ],
   "source": [
    "#FIRING RATE FOR CA3\n",
    "fig,ax = plt.subplots(figsize=(5,5))\n",
    "data = [allen_ca3_firing_rate, df_CA3['FiringFrequency'].dropna()]\n",
    "plt.boxplot(data)\n",
    "ax.set_xticklabels(['Allen Brain Neuropixels','Neuroelectro'])\n",
    "ax.set_ylabel('Hz')\n",
    "ax.set_title('Neuropixels vs Neuroelectro Firing Rate')\n",
    "plt.show()"
   ]
  },
  {
   "cell_type": "code",
   "execution_count": null,
   "metadata": {},
   "outputs": [],
   "source": [
    "#SPIKE HALF WIDTH BOX PLOT FOR CA1\n",
    "fig,ax = plt.subplots(figsize=(5,5))\n",
    "data = [allen_ca1_half_width, df_CA1['SpikeHalfWidth'].dropna()]\n",
    "plt.boxplot(data)\n",
    "ax.set_xticklabels(['Allen Brain Neuropixels','Neuroelectro'])\n",
    "ax.set_ylabel('ms')\n",
    "ax.set_title('Neuropixels vs Neuroelectro Half Width')\n",
    "plt.show()"
   ]
  },
  {
   "cell_type": "code",
   "execution_count": null,
   "metadata": {},
   "outputs": [],
   "source": [
    "#BOXPLOT FOR SPIKE HALF WIDTH FOR CA3\n",
    "fig,ax = plt.subplots(figsize=(5,5))\n",
    "data = [allen_ca3_half_width.dropna(), df_CA3['SpikeHalfWidth'].dropna()]\n",
    "plt.boxplot(data)\n",
    "ax.set_xticklabels(['Allen Brain Neuropixels','Neuroelectro'])\n",
    "ax.set_ylabel('ms')\n",
    "ax.set_title('Neuropixels vs Neuroelectro Half Width')\n",
    "plt.show()"
   ]
  },
  {
   "cell_type": "markdown",
   "metadata": {},
   "source": [
    "## Conclusion & Discussion"
   ]
  },
  {
   "cell_type": "markdown",
   "metadata": {},
   "source": [
    "*Fill in your discussion information here*"
   ]
  }
 ],
 "metadata": {
  "kernelspec": {
   "display_name": "Python 3",
   "language": "python",
   "name": "python3"
  },
  "language_info": {
   "codemirror_mode": {
    "name": "ipython",
    "version": 3
   },
   "file_extension": ".py",
   "mimetype": "text/x-python",
   "name": "python",
   "nbconvert_exporter": "python",
   "pygments_lexer": "ipython3",
   "version": "3.6.7"
  }
 },
 "nbformat": 4,
 "nbformat_minor": 2
}
