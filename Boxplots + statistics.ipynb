{
 "cells": [
  {
   "cell_type": "code",
   "execution_count": 1,
   "metadata": {},
   "outputs": [],
   "source": [
    "import pandas as pd\n",
    "import numpy as np\n",
    "import matplotlib as mpl\n",
    "import matplotlib.pyplot as plt"
   ]
  },
  {
   "cell_type": "code",
   "execution_count": 2,
   "metadata": {},
   "outputs": [
    {
     "name": "stdout",
     "output_type": "stream",
     "text": [
      "    FiringFrequency  SpikeHalfWidth  SpikeAmplitude\n",
      "0               NaN            0.54             NaN\n",
      "1               NaN            0.84             NaN\n",
      "2               NaN            1.70            85.0\n",
      "3               NaN            0.79             NaN\n",
      "4               NaN            1.70            80.0\n",
      "5             118.0             NaN            74.5\n",
      "6               NaN            0.55            92.2\n",
      "7               NaN            1.30            73.9\n",
      "8               NaN            1.18             NaN\n",
      "9               NaN             NaN             NaN\n",
      "10              NaN            1.10            76.0\n",
      "11              NaN            0.57             NaN\n",
      "    FiringFrequency  SpikeHalfWidth  SpikeAmplitude\n",
      "0               NaN            0.40             NaN\n",
      "1               NaN             NaN             NaN\n",
      "2               NaN             NaN             NaN\n",
      "3               NaN            0.67             NaN\n",
      "4             206.0             NaN             NaN\n",
      "5               NaN            0.80           56.00\n",
      "6               NaN            0.83           57.50\n",
      "7               NaN            0.80             NaN\n",
      "8               NaN            0.80             NaN\n",
      "9               NaN             NaN             NaN\n",
      "10              NaN             NaN           82.60\n",
      "11              NaN            1.52             NaN\n",
      "12              NaN            0.83           92.00\n",
      "13              NaN             NaN             NaN\n",
      "14              NaN            0.95          112.00\n",
      "15              NaN            0.90             NaN\n",
      "16              NaN            0.76           93.55\n",
      "17              NaN             NaN           87.00\n",
      "18              NaN             NaN           90.20\n",
      "19              NaN             NaN             NaN\n",
      "20              NaN             NaN             NaN\n",
      "21              NaN             NaN             NaN\n",
      "22              NaN             NaN             NaN\n",
      "23              NaN             NaN             NaN\n",
      "24             33.2             NaN             NaN\n",
      "25              NaN             NaN             NaN\n",
      "26              NaN            1.60          106.80\n",
      "27              NaN             NaN             NaN\n",
      "28              NaN             NaN           77.30\n",
      "29              NaN             NaN             NaN\n",
      "30              NaN             NaN             NaN\n",
      "31              NaN             NaN           70.94\n",
      "32              NaN             NaN           77.37\n",
      "33              NaN            0.76           77.60\n",
      "34              NaN            1.20             NaN\n",
      "35              NaN             NaN             NaN\n",
      "36              NaN            1.90             NaN\n",
      "37              NaN            1.15             NaN\n",
      "38              NaN             NaN             NaN\n",
      "39             86.0             NaN             NaN\n",
      "40              NaN             NaN             NaN\n",
      "41              NaN             NaN             NaN\n",
      "42              NaN             NaN             NaN\n",
      "43              NaN            1.90             NaN\n"
     ]
    }
   ],
   "source": [
    "#Import the NeuroElectro Data\n",
    "df = pd.read_excel ('neurophysiology_data.xlsx')\n",
    "mouse_df = pd.DataFrame (df)\n",
    "mouse_df\n",
    "\n",
    "#pull out all the rows where \"CA3\" is in the NeuroType column and create a new DataFrame \n",
    "df_CA3 = df[df['NeuronType'].str.contains('CA3')].reset_index(drop=True)\n",
    "df_CA3\n",
    "\n",
    "#did the same thing for CA1 cells \n",
    "df_CA1 = df[df['NeuronType'].str.contains('CA1')].reset_index(drop=True)\n",
    "df_CA1\n",
    "\n",
    "#get all the columns of df_CA3 with ephys we are interested in\n",
    "print(df_CA3[['FiringFrequency','SpikeHalfWidth','SpikeAmplitude']])\n",
    "\n",
    "#did the same thing for df_CA1\n",
    "print(df_CA1[['FiringFrequency','SpikeHalfWidth','SpikeAmplitude']])"
   ]
  },
  {
   "cell_type": "code",
   "execution_count": 3,
   "metadata": {},
   "outputs": [
    {
     "name": "stdout",
     "output_type": "stream",
     "text": [
      "unit_id\n",
      "950911195     8.201781\n",
      "950911223    15.087965\n",
      "950911266    23.864839\n",
      "950911286     2.396609\n",
      "950912928     0.983724\n",
      "               ...    \n",
      "950954922     3.566261\n",
      "950955053    16.898391\n",
      "950955212     4.665299\n",
      "950955361     3.913271\n",
      "950955399    24.848122\n",
      "Name: firing_rate, Length: 145, dtype: float64\n"
     ]
    }
   ],
   "source": [
    "\n",
    "# Import the Neuropixels Cache\n",
    "from allensdk.brain_observatory.ecephys.ecephys_project_cache import EcephysProjectCache\n",
    "\n",
    "# We have all of this data on the datahub! This is where it lives.\n",
    "manifest_path = '/datasets/allen-brain-observatory/visual-coding-neuropixels/ecephys-cache/manifest.json' \n",
    "\n",
    "# Create the EcephysProjectCache object\n",
    "cache = EcephysProjectCache.fixed(manifest=manifest_path)\n",
    "\n",
    "# Get the sessions available in this dataset\n",
    "sessions = cache.get_session_table()\n",
    "session_ca1_list = []\n",
    "\n",
    "for idx,structure_list in enumerate(sessions['ecephys_structure_acronyms']):\n",
    "    if 'CA1' in structure_list:\n",
    "        session_ca1_list.append(sessions.index[idx])   \n",
    "\n",
    "session_ca3_list = []\n",
    "\n",
    "for idx,structure_list in enumerate(sessions['ecephys_structure_acronyms']):\n",
    "    if 'CA3' in structure_list:\n",
    "        session_ca3_list.append(sessions.index[idx]) \n",
    "        \n",
    "        \n",
    "session = cache.get_session_data(session_ca3_list[0])\n",
    "allen_ca3 = session.units[session.units.ecephys_structure_acronym=='CA3']\n",
    "allen_ca3_amplitude = allen_ca3['waveform_amplitude']\n",
    "allen_ca3_half_width = allen_ca3['waveform_halfwidth']\n",
    "allen_ca3_firing_rate = allen_ca3['firing_rate']\n",
    "\n",
    "session_a = cache.get_session_data(session_ca1_list[0])\n",
    "allen_ca1 = session_a.units[session.units.ecephys_structure_acronym == 'CA1']\n",
    "allen_ca1_amplitude = allen_ca1['waveform_amplitude']\n",
    "allen_ca1_half_width = allen_ca1['waveform_halfwidth']\n",
    "allen_ca1_firing_rate = allen_ca1['firing_rate']\n",
    "\n",
    "print(allen_ca1_firing_rate)"
   ]
  },
  {
   "cell_type": "code",
   "execution_count": 30,
   "metadata": {},
   "outputs": [
    {
     "data": {
      "image/png": "[encoded data removed]",
      "text/plain": [
       "<Figure size 360x360 with 1 Axes>"
      ]
     },
     "metadata": {
      "needs_background": "light"
     },
     "output_type": "display_data"
    }
   ],
   "source": [
    "#FIRING RATE BOX PLOT FOR CA1\n",
    "fig,ax = plt.subplots(figsize=(5,5))\n",
    "data = [allen_ca1_firing_rate, df_CA1['FiringFrequency'].dropna()]\n",
    "plt.boxplot(data)\n",
    "ax.set_xticklabels(['Allen Brain Neuropixels','Neuroelectro'])\n",
    "ax.set_ylabel('Firing Rate (Hz)')\n",
    "ax.set_title('Neuropixels vs Neuroelectro Firing Rate')\n",
    "plt.show()"
   ]
  },
  {
   "cell_type": "code",
   "execution_count": 31,
   "metadata": {},
   "outputs": [
    {
     "data": {
      "image/png": "[encoded data removed]",
      "text/plain": [
       "<Figure size 360x360 with 1 Axes>"
      ]
     },
     "metadata": {
      "needs_background": "light"
     },
     "output_type": "display_data"
    }
   ],
   "source": [
    "\n",
    "#FIRING RATE FOR CA3\n",
    "fig,ax = plt.subplots(figsize=(5,5))\n",
    "data = [allen_ca3_firing_rate, df_CA3['FiringFrequency'].dropna()]\n",
    "plt.boxplot(data)\n",
    "ax.set_xticklabels(['Allen Brain Neuropixels','Neuroelectro'])\n",
    "ax.set_ylabel('Firing Rate (Hz)')\n",
    "ax.set_title('Neuropixels vs Neuroelectro Firing Rate')\n",
    "plt.show()"
   ]
  },
  {
   "cell_type": "code",
   "execution_count": 26,
   "metadata": {},
   "outputs": [
    {
     "data": {
      "image/png": "[encoded data removed]",
      "text/plain": [
       "<Figure size 360x360 with 1 Axes>"
      ]
     },
     "metadata": {
      "needs_background": "light"
     },
     "output_type": "display_data"
    }
   ],
   "source": [
    "#SPIKE WIDTH BOX PLOT FOR CA1\n",
    "fig,ax = plt.subplots(figsize=(5,5))\n",
    "data = [allen_ca1_half_width, df_CA1['SpikeHalfWidth'].dropna()]\n",
    "plt.boxplot(data)\n",
    "ax.set_xticklabels(['Allen Brain Neuropixels','Neuroelectro'])\n",
    "ax.set_ylabel('Spike Half Width (ms)')\n",
    "ax.set_title('Neuropixels vs Neuroelectro Half Width')\n",
    "plt.show()"
   ]
  },
  {
   "cell_type": "code",
   "execution_count": 27,
   "metadata": {},
   "outputs": [
    {
     "data": {
      "image/png": "[encoded data removed]",
      "text/plain": [
       "<Figure size 360x360 with 1 Axes>"
      ]
     },
     "metadata": {
      "needs_background": "light"
     },
     "output_type": "display_data"
    }
   ],
   "source": [
    "\n",
    "#BOXPLOT FOR SPIKE HALF WIDTH FOR CA3\n",
    "fig,ax = plt.subplots(figsize=(5,5))\n",
    "data = [allen_ca3_half_width.dropna(), df_CA3['SpikeHalfWidth'].dropna()]\n",
    "plt.boxplot(data)\n",
    "ax.set_xticklabels(['Allen Brain Neuropixels','Neuroelectro'])\n",
    "ax.set_ylabel('Spike Half Width (ms)')\n",
    "ax.set_title('Neuropixels vs Neuroelectro Half Width')\n",
    "plt.show()"
   ]
  },
  {
   "cell_type": "code",
   "execution_count": 28,
   "metadata": {},
   "outputs": [
    {
     "data": {
      "image/png": "[encoded data removed]",
      "text/plain": [
       "<Figure size 360x360 with 1 Axes>"
      ]
     },
     "metadata": {
      "needs_background": "light"
     },
     "output_type": "display_data"
    }
   ],
   "source": [
    "fig,ax = plt.subplots(figsize=(5,5))\n",
    "data = [allen_ca1_amplitude.dropna(), df_CA1['SpikeAmplitude'].dropna()]\n",
    "plt.boxplot(data)\n",
    "ax.set_xticklabels(['Allen Brain Neuropixels','Neuroelectro'])\n",
    "ax.set_ylabel('Spike Amplitude (mV)')\n",
    "ax.set_title('Neuropixels vs Neuroelectro Spike Amplitude')\n",
    "ax.annotate\n",
    "plt.show()"
   ]
  },
  {
   "cell_type": "code",
   "execution_count": 29,
   "metadata": {},
   "outputs": [
    {
     "data": {
      "image/png": "[encoded data removed]",
      "text/plain": [
       "<Figure size 360x360 with 1 Axes>"
      ]
     },
     "metadata": {
      "needs_background": "light"
     },
     "output_type": "display_data"
    }
   ],
   "source": [
    "fig,ax = plt.subplots(figsize=(5,5))\n",
    "data = [allen_ca3_amplitude.dropna(), df_CA3['SpikeAmplitude'].dropna()]\n",
    "plt.boxplot(data)\n",
    "ax.set_xticklabels(['Allen Brain Neuropixels','Neuroelectro'])\n",
    "ax.set_ylabel('Spike Amplitude (mV)')\n",
    "ax.set_title('Neuropixels vs Neuroelectro Spike Amplitude')\n",
    "plt.show()"
   ]
  },
  {
   "cell_type": "code",
   "execution_count": 12,
   "metadata": {},
   "outputs": [
    {
     "data": {
      "text/plain": [
       "950936572     97.998030\n",
       "950936639    193.194690\n",
       "950936710    151.189350\n",
       "950936675    253.296225\n",
       "950936656    389.819040\n",
       "950936759    187.906485\n",
       "950936870    343.088850\n",
       "950936855    290.611620\n",
       "950936727    461.618820\n",
       "950936941    181.784655\n",
       "950936979    730.104375\n",
       "950936908    144.401790\n",
       "950936992    186.037020\n",
       "950937050    150.797595\n",
       "2             85.000000\n",
       "4             80.000000\n",
       "5             74.500000\n",
       "6             92.200000\n",
       "7             73.900000\n",
       "10            76.000000\n",
       "dtype: float64"
      ]
     },
     "execution_count": 12,
     "metadata": {},
     "output_type": "execute_result"
    }
   ],
   "source": [
    "frame = [allen_ca1_firing_rate, df_CA1['FiringFrequency'].dropna()]\n",
    "df_result_CA1_firing_rate = pd.concat(frame)\n",
    "df_result_CA1_firing_rate\n",
    "\n",
    "frame = [allen_ca3_firing_rate, df_CA3['FiringFrequency'].dropna()]\n",
    "df_result_CA3_firing_rate = pd.concat(frame)\n",
    "df_result_CA3_firing_rate\n",
    "\n",
    "#merge NeuroPixels and Neuroelectro CA1 and CA3 spike half width data \n",
    "frame = [allen_ca1_half_width, df_CA1['SpikeHalfWidth'].dropna()]\n",
    "df_result_CA1_half_width = pd.concat(frame)\n",
    "df_result_CA1_half_width\n",
    "\n",
    "frame = [allen_ca3_half_width, df_CA3['SpikeHalfWidth'].dropna()]\n",
    "df_result_CA3_half_width = pd.concat(frame)\n",
    "df_result_CA3_half_width\n",
    "\n",
    "frame = [allen_ca1_amplitude, df_CA1['SpikeAmplitude'].dropna()]\n",
    "df_result_CA1_amplitude = pd.concat(frame)\n",
    "df_result_CA1_amplitude\n",
    "\n",
    "frame = [allen_ca3_amplitude, df_CA3['SpikeAmplitude'].dropna()]\n",
    "df_result_CA3_amplitude = pd.concat(frame)\n",
    "df_result_CA3_amplitude"
   ]
  },
  {
   "cell_type": "code",
   "execution_count": 13,
   "metadata": {},
   "outputs": [
    {
     "data": {
      "image/png": "[encoded data removed]",
      "text/plain": [
       "<Figure size 360x360 with 1 Axes>"
      ]
     },
     "metadata": {
      "needs_background": "light"
     },
     "output_type": "display_data"
    }
   ],
   "source": [
    "\n",
    "#boxplot for CA1 and CA3 firing rate data \n",
    "fig,ax = plt.subplots(figsize=(5,5))\n",
    "data = [df_result_CA1_firing_rate, df_result_CA3_firing_rate]\n",
    "plt.boxplot(data)\n",
    "for i in [1,2]:\n",
    "    y = data[i-1]\n",
    "    x = np.random.normal(i, 0.02, len(y))\n",
    "    plt.plot(x, y, 'r.', alpha=0.2)\n",
    "ax.set_xticklabels(['CA1','CA3'])\n",
    "ax.set_ylabel('Hz')\n",
    "ax.set_title('CA1 vs CA3 Firing Rate')\n",
    "plt.show()"
   ]
  },
  {
   "cell_type": "code",
   "execution_count": 14,
   "metadata": {},
   "outputs": [
    {
     "name": "stderr",
     "output_type": "stream",
     "text": [
      "/opt/conda/lib/python3.6/site-packages/matplotlib/cbook/__init__.py:1316: RuntimeWarning: invalid value encountered in less_equal\n",
      "  wiskhi = x[x <= hival]\n",
      "/opt/conda/lib/python3.6/site-packages/matplotlib/cbook/__init__.py:1323: RuntimeWarning: invalid value encountered in greater_equal\n",
      "  wisklo = x[x >= loval]\n",
      "/opt/conda/lib/python3.6/site-packages/matplotlib/cbook/__init__.py:1331: RuntimeWarning: invalid value encountered in less\n",
      "  x[x < stats['whislo']],\n",
      "/opt/conda/lib/python3.6/site-packages/matplotlib/cbook/__init__.py:1332: RuntimeWarning: invalid value encountered in greater\n",
      "  x[x > stats['whishi']],\n"
     ]
    },
    {
     "data": {
      "image/png": "[encoded data removed]",
      "text/plain": [
       "<Figure size 360x360 with 1 Axes>"
      ]
     },
     "metadata": {
      "needs_background": "light"
     },
     "output_type": "display_data"
    }
   ],
   "source": [
    "#boxplot for CA1 and CA3 spike half width data \n",
    "fig,ax = plt.subplots(figsize=(5,5))\n",
    "data = [df_result_CA1_half_width, df_result_CA3_half_width]\n",
    "plt.boxplot(data)\n",
    "for i in [1,2]:\n",
    "    y = data[i-1]\n",
    "    x = np.random.normal(i, 0.02, len(y))\n",
    "    plt.plot(x, y, 'r.', alpha=0.2)\n",
    "ax.set_xticklabels(['CA1','CA3'])\n",
    "ax.set_ylabel('ms')\n",
    "ax.set_title('CA1 vs CA3 Spike Half Width')\n",
    "plt.show()"
   ]
  },
  {
   "cell_type": "code",
   "execution_count": 32,
   "metadata": {},
   "outputs": [
    {
     "data": {
      "image/png": "[encoded data removed]",
      "text/plain": [
       "<Figure size 360x360 with 1 Axes>"
      ]
     },
     "metadata": {
      "needs_background": "light"
     },
     "output_type": "display_data"
    }
   ],
   "source": [
    "#boxplot for CA1 and CA3 spike half width data \n",
    "fig,ax = plt.subplots(figsize=(5,5))\n",
    "data = [df_result_CA1_amplitude, df_result_CA3_amplitude]\n",
    "plt.boxplot(data)\n",
    "for i in [1,2]:\n",
    "    y = data[i-1]\n",
    "    x = np.random.normal(i, 0.02, len(y))\n",
    "    plt.plot(x, y, 'r.', alpha=0.2)\n",
    "ax.set_xticklabels(['CA1','CA3'])\n",
    "ax.set_ylabel('mV')\n",
    "ax.set_title('CA1 vs CA3 Spike Amplitude')\n",
    "plt.show()"
   ]
  },
  {
   "cell_type": "code",
   "execution_count": 16,
   "metadata": {},
   "outputs": [
    {
     "name": "stdout",
     "output_type": "stream",
     "text": [
      "DescribeResult(nobs=17, minmax=(0.4, 1.9), mean=1.0452941176470587, variance=0.1907764705882353, skewness=0.8466614489741058, kurtosis=-0.3805757644850307)\n",
      "DescribeResult(nobs=10, minmax=(0.54, 1.7), mean=1.0270000000000001, variance=0.19708999999999996, skewness=0.3943833909947903, kurtosis=-1.1806692296973336)\n",
      "DescribeResult(nobs=3, minmax=(33.2, 206.0), mean=108.39999999999999, variance=7841.28, skewness=0.4349828375463192, kurtosis=-1.4999999999999996)\n",
      "DescribeResult(nobs=1, minmax=(118.0, 118.0), mean=118.0, variance=nan, skewness=0.0, kurtosis=-3.0)\n",
      "DescribeResult(nobs=13, minmax=(56.0, 112.0), mean=83.14307692307692, variance=273.7930730769231, skewness=0.004994652097478402, kurtosis=-0.5579066505129573)\n",
      "DescribeResult(nobs=6, minmax=(73.9, 92.2), mean=80.26666666666667, variance=51.37466666666667, skewness=0.7603035444467767, kurtosis=-0.8302627471344834)\n"
     ]
    },
    {
     "name": "stderr",
     "output_type": "stream",
     "text": [
      "/opt/conda/lib/python3.6/site-packages/numpy/core/fromnumeric.py:3506: RuntimeWarning: Degrees of freedom <= 0 for slice\n",
      "  **kwargs)\n",
      "/opt/conda/lib/python3.6/site-packages/numpy/core/_methods.py:209: RuntimeWarning: invalid value encountered in double_scalars\n",
      "  ret = ret.dtype.type(ret / rcount)\n"
     ]
    }
   ],
   "source": [
    "from scipy import stats\n",
    "print(stats.describe(df_CA1['SpikeHalfWidth'].dropna()))\n",
    "print(stats.describe(df_CA3['SpikeHalfWidth'].dropna()))\n",
    "print(stats.describe(df_CA1['FiringFrequency'].dropna()))\n",
    "print(stats.describe(df_CA3['FiringFrequency'].dropna()))\n",
    "print(stats.describe(df_CA1['SpikeAmplitude'].dropna()))\n",
    "print(stats.describe(df_CA3['SpikeAmplitude'].dropna()))"
   ]
  },
  {
   "cell_type": "code",
   "execution_count": 17,
   "metadata": {},
   "outputs": [
    {
     "name": "stdout",
     "output_type": "stream",
     "text": [
      "RanksumsResult(statistic=-0.7578201399641389, pvalue=0.44855866380054144)\n",
      "RanksumsResult(statistic=-1.1192530713723583, pvalue=0.26303219012016477)\n",
      "RanksumsResult(statistic=0.6678648215342755, pvalue=0.5042198845577079)\n"
     ]
    }
   ],
   "source": [
    "print(stats.ranksums(df_result_CA1_firing_rate, df_result_CA3_firing_rate))\n",
    "print(stats.ranksums(df_result_CA1_half_width, df_result_CA3_half_width))\n",
    "print(stats.ranksums(df_result_CA1_amplitude, df_result_CA3_amplitude))"
   ]
  },
  {
   "cell_type": "code",
   "execution_count": 18,
   "metadata": {},
   "outputs": [
    {
     "name": "stdout",
     "output_type": "stream",
     "text": [
      "0.83\n",
      "0.97\n",
      "86.0\n",
      "118.0\n",
      "82.6\n",
      "78.0\n"
     ]
    }
   ],
   "source": [
    "print(np.median(df_CA1['SpikeHalfWidth'].dropna()))\n",
    "print(np.median(df_CA3['SpikeHalfWidth'].dropna()))\n",
    "print(np.median(df_CA1['FiringFrequency'].dropna()))\n",
    "print(np.median(df_CA3['FiringFrequency'].dropna()))\n",
    "print(np.median(df_CA1['SpikeAmplitude'].dropna()))\n",
    "print(np.median(df_CA3['SpikeAmplitude'].dropna()))\n"
   ]
  },
  {
   "cell_type": "code",
   "execution_count": 23,
   "metadata": {},
   "outputs": [
    {
     "name": "stdout",
     "output_type": "stream",
     "text": [
      "DescribeResult(nobs=145, minmax=(0.102523817602014, 81.7015463997864), mean=7.275172183375632, variance=86.23862238276374, skewness=4.250489798409665, kurtosis=27.694442897272676)\n",
      "DescribeResult(nobs=3, minmax=(33.2, 206.0), mean=108.39999999999999, variance=7841.28, skewness=0.4349828375463192, kurtosis=-1.4999999999999996)\n",
      "DescribeResult(nobs=14, minmax=(0.309688581830122, 29.2632335146168), mean=8.715714451113053, variance=76.43595754813171, skewness=1.0103401916279207, kurtosis=0.009138094874939107)\n",
      "DescribeResult(nobs=1, minmax=(118.0, 118.0), mean=118.0, variance=nan, skewness=0.0, kurtosis=-3.0)\n"
     ]
    }
   ],
   "source": [
    "#stats for neuroelectro and allen firing rates ca3 and ca1 individually to determine intra vs extra differences\n",
    "print(stats.describe(allen_ca1_firing_rate))\n",
    "print(stats.describe(df_CA1['FiringFrequency'].dropna()))\n",
    "print(stats.describe(allen_ca3_firing_rate))\n",
    "print(stats.describe(df_CA3['FiringFrequency'].dropna()))"
   ]
  },
  {
   "cell_type": "code",
   "execution_count": 24,
   "metadata": {},
   "outputs": [
    {
     "name": "stdout",
     "output_type": "stream",
     "text": [
      "DescribeResult(nobs=145, minmax=(0.109882747068677, 1.22244556113903), mean=0.25026742909952054, variance=0.032573842802689094, skewness=3.7443826316678277, kurtosis=14.625889553018734)\n",
      "DescribeResult(nobs=17, minmax=(0.4, 1.9), mean=1.0452941176470587, variance=0.1907764705882353, skewness=0.8466614489741058, kurtosis=-0.3805757644850307)\n",
      "DescribeResult(nobs=14, minmax=(nan, nan), mean=nan, variance=nan, skewness=nan, kurtosis=nan)\n",
      "DescribeResult(nobs=10, minmax=(0.54, 1.7), mean=1.0270000000000001, variance=0.19708999999999996, skewness=0.3943833909947903, kurtosis=-1.1806692296973336)\n"
     ]
    }
   ],
   "source": [
    "#stats for neuroelectro and allen half widths ca3 and ca1 individually to determine intra vs extra differences\n",
    "print(stats.describe(allen_ca1_half_width))\n",
    "print(stats.describe(df_CA1['SpikeHalfWidth'].dropna()))\n",
    "print(stats.describe(allen_ca3_half_width))\n",
    "print(stats.describe(df_CA3['SpikeHalfWidth'].dropna()))"
   ]
  },
  {
   "cell_type": "code",
   "execution_count": 25,
   "metadata": {},
   "outputs": [
    {
     "name": "stdout",
     "output_type": "stream",
     "text": [
      "DescribeResult(nobs=145, minmax=(49.34397, 704.97297), mean=225.32777710344828, variance=16051.637455394857, skewness=1.0817658717358247, kurtosis=1.0597470454554587)\n",
      "DescribeResult(nobs=13, minmax=(56.0, 112.0), mean=83.14307692307692, variance=273.7930730769231, skewness=0.004994652097478402, kurtosis=-0.5579066505129573)\n",
      "DescribeResult(nobs=14, minmax=(97.9980299999999, 730.104375), mean=268.7034675, variance=28457.50871873959, skewness=1.5841366742465814, kurtosis=1.9719072940247493)\n",
      "DescribeResult(nobs=6, minmax=(73.9, 92.2), mean=80.26666666666667, variance=51.37466666666667, skewness=0.7603035444467767, kurtosis=-0.8302627471344834)\n"
     ]
    }
   ],
   "source": [
    "#stats for neuroelectro and allen spike amplitudes ca3 and ca1 individually to determine intra vs extra differences\n",
    "print(stats.describe(allen_ca_amplitude.dropna()))\n",
    "print(stats.describe(df_CA1['SpikeAmplitude'].dropna()))\n",
    "print(stats.describe(allen_ca3_amplitude.dropna()))\n",
    "print(stats.describe(df_CA3['SpikeAmplitude'].dropna()))"
   ]
  },
  {
   "cell_type": "code",
   "execution_count": null,
   "metadata": {},
   "outputs": [],
   "source": []
  }
 ],
 "metadata": {
  "kernelspec": {
   "display_name": "Python 3",
   "language": "python",
   "name": "python3"
  },
  "language_info": {
   "codemirror_mode": {
    "name": "ipython",
    "version": 3
   },
   "file_extension": ".py",
   "mimetype": "text/x-python",
   "name": "python",
   "nbconvert_exporter": "python",
   "pygments_lexer": "ipython3",
   "version": "3.6.7"
  }
 },
 "nbformat": 4,
 "nbformat_minor": 2
}
