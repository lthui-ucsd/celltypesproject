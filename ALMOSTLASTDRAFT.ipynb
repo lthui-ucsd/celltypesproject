{
 "cells": [
  {
   "cell_type": "markdown",
   "metadata": {},
   "source": [
    "# Comparing CA3 and CA1 Neuron Electrophysiology\n"
   ]
  },
  {
   "cell_type": "markdown",
   "metadata": {},
   "source": [
    "## Team Member Names & Contributions\n",
    "*Feel free to name your team, but please also include your real names and IDs here. Please specify who in your group worked on which parts of the project.*\n",
    "\n",
    "- **Sunnie Hong**: abstract, editing code, graphs, Neuropixels data wrangling, discussion (PID A13527409)\n",
    "- **Yudi Hu**: NeuroElectro data wrangling, merging two datasets, graphs (PID A13488186) \n",
    "- **Lauren Hui**: abstract, background, editing code (troubleshooting graphs), discussion/conclusion, Neuropixels data wrangling (PID A14697567)\n"
   ]
  },
  {
   "cell_type": "markdown",
   "metadata": {},
   "source": [
    "## Abstract"
   ]
  },
  {
   "cell_type": "markdown",
   "metadata": {},
   "source": [
    "We compared CA3 and CA1 neurons in the hippocampus based on three electrophysiological properties - firing rate, spike amplitude, and spike half-width - to examine whether these two types of neurons were similar or different in terms of their electrophysiological activity. CA3 and CA1 neurons form an essential part of the perforant pathway, which is related to long-term memory encoding and learning, and we hypothesized that their electrophysiological properties are similar because CA3 neurons feed to CA1 in the circuit. Using open-source data from NeuroElectro and Neuropixels, we were able to visualize and extract similar means and medians for these three electrophysiological properties, but due to the limited amount of data available, the results were inconclusive and were not statistically significant. The results suggest that CA3 and CA1 neurons have similar values for all three electrophysiological properties, but wide variation exists between recordings that reduce the reliability of these results. Additional recording data is required to confirm these preliminary findings."
   ]
  },
  {
   "cell_type": "markdown",
   "metadata": {},
   "source": [
    "## Research Question"
   ]
  },
  {
   "cell_type": "markdown",
   "metadata": {},
   "source": [
    "How does the electrophysiology of CA3 neurons compare to that of CA1 neurons in the hippocampus?\n",
    "\n",
    "* Is the firing rate similar?\n",
    "* Is the spike half-width similar?\n",
    "* Are waveform amplitude and spike amplitude comparable?"
   ]
  },
  {
   "cell_type": "markdown",
   "metadata": {},
   "source": [
    "# Background and Prior Work"
   ]
  },
  {
   "cell_type": "markdown",
   "metadata": {},
   "source": [
    "The hippocampus is home to a host of important functions such as learning and memory, and its ability to serve these vital functions is dependent on its circuitry. The perforant pathway, which originates in the entorhinal cortex and terminates on granule cells in the dentate gyrus, is the major afferent pathway to the hippocampus. Fibers project from the entorhinal cortex to the CA3 region, which in turn project to the CA1 region. From past experiments, CA3 stimulation resulted in similar recordings in CA1 neurons, but the recordings differed compared to those from perforant pathway stimulation (Doller et al. 1982). This difference suggests that the origin of stimulation has an effect on activity of the CA1 region. Following activation of this circuit, depolarization of the CA3 neurons caused a smaller depolarization in the CA1 neuron as observed in later experiments (Ferrea et al. 2012). \n",
    "\n",
    "Because of the complexity of CA3 projections to the CA1 cells, we would like to examine the differences and similarities in CA3 and CA1 electrophysiology. The CA3/CA1 hippocampal circuit was of interest to us because alterations to this pathway may have a profound effect on learning and memory. Examining the activity of CA3 and CA1 action potentials will help us gain a better understanding of how CA3 and CA1 interactions influence circuit functionality.\n",
    "\n",
    "For this project, we used data sets from NeuroElectro and Neuropixels to compare electrophysiology data. NeuroElectro contains open source electrophysiological data from a variety of cell types including CA1 and CA3, and includes data such as resting membrane potential, spike half width, and more. Neuropixels is another open source probe and control system that contains data recorded from large regions of animal brains and includes electrophysiological data such as firing rate, duration, amplitude, and more. The main difference between these data sets is whether the recordings are made intracellularly or extracellularly: NeuroElectro data is recorded intracellularly whereas Neuropixels is recorded extracellularly. This may cause variation when examining the values for the electrophysiological properties because extracellular recording is a summation of the recordings from multiple cells, whereas intracellular recording is from an individual cell. It is also important to note that extracellular data may not be as accurate in terms of identifying which cells they are recording from since it is recorded over an area of a group of cells rather than a single identified type of cell. This project will aim to merge these datasets and examine the differences between them as well as compare the CA3 and CA1 data from these sources.\n",
    "\n",
    "This project is concerned with three electrophysiological property data from CA3 and CA1 neurons: spike amplitude, spike half-width, and firing rate. Spike amplitude is the difference in voltage between the threshold voltage and the peak of an action potential. Spike half-width is the time it takes for an action potential to travel from half its maximum amplitude on the upstroke to the same half maximum amplitude on the downstroke. Firing rate is the number of action potential spikes per set amount of time, also known as the frequency of action potential firing. These three properties are used to understand the functionality of neurons, as firing rate encodes the intensity of a stimulus, spike half-width is related to the speed of the action potential activation in the neuron, and spike amplitude is related to the strength of the stimuli the neuron receives. These three electrophysiological properties are a good representation of how different neurons interact and what their properties are. Differing electrophysiological properties are directly related to the intrinsic qualities and features of the neuron and we are able to examine if CA3 and CA1 have similar or different electrophysiological properties related to their circuitry and role in learning and memory.\n",
    "\n",
    "\n",
    "### References (include links):\n",
    "Doller, Herbert J., et al. “Perforant Pathway Activation of Hippocampal CA1 Stratum Pyramidale Neurons: Electrophysiological Evidence for a Direct Pathway.” Brain Research, Elsevier, 7 Mar. 2003. https://www.ncbi.nlm.nih.gov/pubmed/7074352\n",
    "\n",
    "Ferrea, et al. “Large-Scale, High-Resolution Electrophysiological Imaging of Field Potentials in Brain Slices with Microelectronic Multielectrode Arrays.” Frontiers, Frontiers, 17 Oct. 2012. https://www.frontiersin.org/articles/10.3389/fncir.2012.00080/full\n",
    "\n",
    "Sayer, Rod J., et al. “The Time Course and Amplitude of EPSPs Evoked at Synapses Between Pairs of CA3/CA1 Neurons in the Hippocampal Slice.” The Journal of Neuroscience, vol. 10, no. 3, Mar. 1990, pp. 826–836. https://www.jneurosci.org/content/jneuro/10/3/826.full.pdf\n"
   ]
  },
  {
   "cell_type": "markdown",
   "metadata": {},
   "source": [
    "## Hypothesis\n"
   ]
  },
  {
   "cell_type": "markdown",
   "metadata": {},
   "source": [
    "We hypothesized that the electrophysiological properties of spike half width, spike amplitude, and firing rate will be similar between CA3 and CA1 cell types because CA3 neurons send inputs to CA1 in the hippocampal circuitry."
   ]
  },
  {
   "cell_type": "markdown",
   "metadata": {},
   "source": [
    "## Setup\n",
    "*Are there packages that need to be imported, or datasets that need to be downloaded?*"
   ]
  },
  {
   "cell_type": "code",
   "execution_count": 2,
   "metadata": {},
   "outputs": [],
   "source": [
    "import pandas as pd\n",
    "import numpy as np\n",
    "import matplotlib as mpl\n",
    "import matplotlib.pyplot as plt"
   ]
  },
  {
   "cell_type": "markdown",
   "metadata": {},
   "source": [
    "## Data Wrangling"
   ]
  },
  {
   "cell_type": "markdown",
   "metadata": {},
   "source": [
    "The file “neurophysiology_data.xlsx” was downloaded from NeuroElectro and was imported as a pandas DataFrame in Python. Hippocampal CA3 and CA1 neurons electrophysiology data were extracted from the original DataFrame and two separate DataFrames containing interested electrophysiology data of CA3 and CA1 cells were created. \n",
    "\n",
    "The Neuropixels Cache was imported into Python from the Allen Brain Institute EcephysProjectCache. Sessions of recordings were obtained and sorted into lists for CA1 and CA3. A new DataFrame was made containing columns from CA1 and CA3 with the electrophysiological properties we were examining (amplitude, half width, and firing rate) and sorted by session ID. \n"
   ]
  },
  {
   "cell_type": "code",
   "execution_count": 3,
   "metadata": {},
   "outputs": [
    {
     "name": "stdout",
     "output_type": "stream",
     "text": [
      "    FiringFrequency  SpikeHalfWidth  SpikeAmplitude\n",
      "0               NaN            0.54             NaN\n",
      "1               NaN            0.84             NaN\n",
      "2               NaN            1.70            85.0\n",
      "3               NaN            0.79             NaN\n",
      "4               NaN            1.70            80.0\n",
      "5             118.0             NaN            74.5\n",
      "6               NaN            0.55            92.2\n",
      "7               NaN            1.30            73.9\n",
      "8               NaN            1.18             NaN\n",
      "9               NaN             NaN             NaN\n",
      "10              NaN            1.10            76.0\n",
      "11              NaN            0.57             NaN\n",
      "    FiringFrequency  SpikeHalfWidth  SpikeAmplitude\n",
      "0               NaN            0.40             NaN\n",
      "1               NaN             NaN             NaN\n",
      "2               NaN             NaN             NaN\n",
      "3               NaN            0.67             NaN\n",
      "4             206.0             NaN             NaN\n",
      "5               NaN            0.80           56.00\n",
      "6               NaN            0.83           57.50\n",
      "7               NaN            0.80             NaN\n",
      "8               NaN            0.80             NaN\n",
      "9               NaN             NaN             NaN\n",
      "10              NaN             NaN           82.60\n",
      "11              NaN            1.52             NaN\n",
      "12              NaN            0.83           92.00\n",
      "13              NaN             NaN             NaN\n",
      "14              NaN            0.95          112.00\n",
      "15              NaN            0.90             NaN\n",
      "16              NaN            0.76           93.55\n",
      "17              NaN             NaN           87.00\n",
      "18              NaN             NaN           90.20\n",
      "19              NaN             NaN             NaN\n",
      "20              NaN             NaN             NaN\n",
      "21              NaN             NaN             NaN\n",
      "22              NaN             NaN             NaN\n",
      "23              NaN             NaN             NaN\n",
      "24             33.2             NaN             NaN\n",
      "25              NaN             NaN             NaN\n",
      "26              NaN            1.60          106.80\n",
      "27              NaN             NaN             NaN\n",
      "28              NaN             NaN           77.30\n",
      "29              NaN             NaN             NaN\n",
      "30              NaN             NaN             NaN\n",
      "31              NaN             NaN           70.94\n",
      "32              NaN             NaN           77.37\n",
      "33              NaN            0.76           77.60\n",
      "34              NaN            1.20             NaN\n",
      "35              NaN             NaN             NaN\n",
      "36              NaN            1.90             NaN\n",
      "37              NaN            1.15             NaN\n",
      "38              NaN             NaN             NaN\n",
      "39             86.0             NaN             NaN\n",
      "40              NaN             NaN             NaN\n",
      "41              NaN             NaN             NaN\n",
      "42              NaN             NaN             NaN\n",
      "43              NaN            1.90             NaN\n"
     ]
    }
   ],
   "source": [
    "#Import the NeuroElectro Data\n",
    "df = pd.read_excel ('neurophysiology_data.xlsx')\n",
    "mouse_df = pd.DataFrame (df)\n",
    "mouse_df\n",
    "\n",
    "#pull out all the rows where \"CA3\" is in the NeuroType column and create a new DataFrame \n",
    "df_CA3 = df[df['NeuronType'].str.contains('CA3')].reset_index(drop=True)\n",
    "df_CA3\n",
    "\n",
    "#did the same thing for CA1 cells \n",
    "df_CA1 = df[df['NeuronType'].str.contains('CA1')].reset_index(drop=True)\n",
    "df_CA1\n",
    "\n",
    "#get all the columns of df_CA3 with ephys we are interested in\n",
    "print(df_CA3[['FiringFrequency','SpikeHalfWidth','SpikeAmplitude']])\n",
    "\n",
    "#did the same thing for df_CA1\n",
    "print(df_CA1[['FiringFrequency','SpikeHalfWidth','SpikeAmplitude']])"
   ]
  },
  {
   "cell_type": "code",
   "execution_count": null,
   "metadata": {},
   "outputs": [],
   "source": [
    "# Import the Neuropixels Cache\n",
    "from allensdk.brain_observatory.ecephys.ecephys_project_cache import EcephysProjectCache\n",
    "\n",
    "# We have all of this data on the datahub! This is where it lives.\n",
    "manifest_path = '/datasets/allen-brain-observatory/visual-coding-neuropixels/ecephys-cache/manifest.json' \n",
    "\n",
    "# Create the EcephysProjectCache object\n",
    "cache = EcephysProjectCache.fixed(manifest=manifest_path)\n",
    "\n",
    "# Get the sessions available in this dataset\n",
    "sessions = cache.get_session_table()\n",
    "\n",
    "# Create a session list for CA1 based on some criteria from Neuropixels\n",
    "\n",
    "session_ca1_list = []\n",
    "\n",
    "for idx,structure_list in enumerate(sessions['ecephys_structure_acronyms']):\n",
    "    if 'CA1' in structure_list:\n",
    "        session_ca1_list.append(sessions.index[idx])   \n",
    "        \n",
    "print('There are '+str(len(session_ca1_list))+' sessions that meet this criteria:')\n",
    "print(session_ca1_list)\n",
    "\n",
    "# Create a session list for CA3 based on criteria from Neuropixels\n",
    "\n",
    "session_ca3_list = []\n",
    "\n",
    "for idx,structure_list in enumerate(sessions['ecephys_structure_acronyms']):\n",
    "    if 'CA3' in structure_list:\n",
    "        session_ca3_list.append(sessions.index[idx])   \n",
    "        \n",
    "print('There are '+str(len(session_ca3_list))+' sessions that meet this criteria:')\n",
    "print(session_ca3_list)\n",
    "        \n",
    "# Get session data for only the columns of ephys properties we are interested in\n",
    "    \n",
    "session = cache.get_session_data(session_ca3_list[0])\n",
    "allen_ca3 = session.units[session.units.ecephys_structure_acronym=='CA3']\n",
    "allen_ca3_amplitude = allen_ca3['waveform_amplitude']\n",
    "allen_ca3_half_width = allen_ca3['waveform_halfwidth']\n",
    "allen_ca3_firing_rate = allen_ca3['firing_rate']\n",
    "\n",
    "session_a = cache.get_session_data(session_ca1_list[0])\n",
    "allen_ca1 = session_a.units[session.units.ecephys_structure_acronym == 'CA1']\n",
    "allen_ca1_amplitude = allen_ca1['waveform_amplitude']\n",
    "allen_ca1_half_width = allen_ca1['waveform_halfwidth']\n",
    "allen_ca1_firing_rate = allen_ca1['firing_rate']\n",
    "\n",
    "print(allen_ca1_firing_rate.head)"
   ]
  },
  {
   "cell_type": "markdown",
   "metadata": {},
   "source": [
    "## Data Analysis & Results"
   ]
  },
  {
   "cell_type": "markdown",
   "metadata": {},
   "source": [
    "Separate dataframes for spike half width, spike amplitude, and firing rate were created for both CA3 and CA1 neuron data, resulting in 6 total dataframes. The three electrophysiology properties were compared in relation to cell type: CA3 vs CA1. Boxplots were created for each electrophysiology property in which the CA3 and CA1 data were compared. \n",
    "\n",
    "From the boxplot comparing spike half width between CA3 and CA1 neurons, it was determined that the median for CA1 neurons was 0.83 while that for CA3 neurons was 0.97. A rank-sums test was performed to compare dependent samples from non-normal populations, with a p-value of 0.263. The boxplot comparing the spike amplitude between CA3 and CA1 neurons indicated that the median for CA3 neurons was 78.0 mV and that for CA1 neurons was 82.6 mV. A rank-sums test for these two datasets resulted in a p-value of 0.504. Another boxplot was created to compare CA3 and CA1 data for firing frequency, in which the median for CA3 data was 118.0 Hz and the median for CA1 data was 86.0 Hz. A rank-sums test comparing CA3 and CA1 firing frequency datasets resulted in a p-value of 0.449. \n"
   ]
  },
  {
   "cell_type": "code",
   "execution_count": 5,
   "metadata": {},
   "outputs": [
    {
     "data": {
      "image/png": "[encoded data removed]",
      "text/plain": [
       "<Figure size 360x360 with 1 Axes>"
      ]
     },
     "metadata": {
      "needs_background": "light"
     },
     "output_type": "display_data"
    }
   ],
   "source": [
    "#FIRING RATE BOX PLOT FOR CA1\n",
    "fig,ax = plt.subplots(figsize=(5,5))\n",
    "data = [allen_ca1_firing_rate, df_CA1['FiringFrequency'].dropna()]\n",
    "plt.boxplot(data)\n",
    "ax.set_xticklabels(['Allen Brain Neuropixels','Neuroelectro'])\n",
    "ax.set_ylabel('m/s')\n",
    "ax.set_title('Neuropixels vs Neuroelectro Firing Rate')\n",
    "plt.show()"
   ]
  },
  {
   "cell_type": "code",
   "execution_count": 6,
   "metadata": {},
   "outputs": [
    {
     "name": "stdout",
     "output_type": "stream",
     "text": [
      "Number of Neuropixels data points = 145\n",
      "Number of Neuroelectro data points = 3\n"
     ]
    }
   ],
   "source": [
    "print('Number of Neuropixels data points = ' + str(len(allen_ca1_firing_rate)))\n",
    "print('Number of Neuroelectro data points = ' + str(len(df_CA1['FiringFrequency'].dropna())))"
   ]
  },
  {
   "cell_type": "code",
   "execution_count": 7,
   "metadata": {},
   "outputs": [
    {
     "data": {
      "image/png": "[encoded data removed]",
      "text/plain": [
       "<Figure size 360x360 with 1 Axes>"
      ]
     },
     "metadata": {
      "needs_background": "light"
     },
     "output_type": "display_data"
    }
   ],
   "source": [
    "#FIRING RATE FOR CA3\n",
    "fig,ax = plt.subplots(figsize=(5,5))\n",
    "data = [allen_ca3_firing_rate, df_CA3['FiringFrequency'].dropna()]\n",
    "plt.boxplot(data)\n",
    "ax.set_xticklabels(['Allen Brain Neuropixels','Neuroelectro'])\n",
    "ax.set_ylabel('m/s')\n",
    "ax.set_title('Neuropixels vs Neuroelectro Firing Rate')\n",
    "plt.show()"
   ]
  },
  {
   "cell_type": "code",
   "execution_count": 8,
   "metadata": {},
   "outputs": [
    {
     "name": "stdout",
     "output_type": "stream",
     "text": [
      "Number of Neuropixels data points = 14\n",
      "Number of Neuroelectro data points = 1\n"
     ]
    }
   ],
   "source": [
    "print('Number of Neuropixels data points = ' + str(len(allen_ca3_firing_rate)))\n",
    "print('Number of Neuroelectro data points = ' + str(len(df_CA3['FiringFrequency'].dropna())))"
   ]
  },
  {
   "cell_type": "code",
   "execution_count": 9,
   "metadata": {},
   "outputs": [
    {
     "data": {
      "image/png": "[encoded data removed]",
      "text/plain": [
       "<Figure size 360x360 with 1 Axes>"
      ]
     },
     "metadata": {
      "needs_background": "light"
     },
     "output_type": "display_data"
    }
   ],
   "source": [
    "#SPIKE WIDTH BOX PLOT FOR CA1\n",
    "fig,ax = plt.subplots(figsize=(5,5))\n",
    "data = [allen_ca1_half_width, df_CA1['SpikeHalfWidth'].dropna()]\n",
    "plt.boxplot(data)\n",
    "ax.set_xticklabels(['Allen Brain Neuropixels','Neuroelectro'])\n",
    "ax.set_ylabel('m/s')\n",
    "ax.set_title('Neuropixels vs Neuroelectro Half Width')\n",
    "plt.show()"
   ]
  },
  {
   "cell_type": "code",
   "execution_count": 10,
   "metadata": {},
   "outputs": [
    {
     "name": "stdout",
     "output_type": "stream",
     "text": [
      "Number of Neuropixels data points = 145\n",
      "Number of Neuroelectro data points = 17\n"
     ]
    }
   ],
   "source": [
    "print('Number of Neuropixels data points = ' + str(len(allen_ca1_half_width)))\n",
    "print('Number of Neuroelectro data points = ' + str(len(df_CA1['SpikeHalfWidth'].dropna())))"
   ]
  },
  {
   "cell_type": "code",
   "execution_count": 11,
   "metadata": {},
   "outputs": [
    {
     "data": {
      "image/png": "[encoded data removed]",
      "text/plain": [
       "<Figure size 360x360 with 1 Axes>"
      ]
     },
     "metadata": {
      "needs_background": "light"
     },
     "output_type": "display_data"
    }
   ],
   "source": [
    "#BOXPLOT FOR SPIKE HALF WIDTH FOR CA3\n",
    "fig,ax = plt.subplots(figsize=(5,5))\n",
    "data = [allen_ca3_half_width.dropna(), df_CA3['SpikeHalfWidth'].dropna()]\n",
    "plt.boxplot(data)\n",
    "ax.set_xticklabels(['Allen Brain Neuropixels','Neuroelectro'])\n",
    "ax.set_ylabel('m/s')\n",
    "ax.set_title('Neuropixels vs Neuroelectro Half Width')\n",
    "plt.show()"
   ]
  },
  {
   "cell_type": "code",
   "execution_count": 12,
   "metadata": {},
   "outputs": [
    {
     "name": "stdout",
     "output_type": "stream",
     "text": [
      "Number of Neuropixels data points = 14\n",
      "Number of Neuroelectro data points = 10\n"
     ]
    }
   ],
   "source": [
    "print('Number of Neuropixels data points = ' + str(len(allen_ca3_half_width)))\n",
    "print('Number of Neuroelectro data points = ' + str(len(df_CA3['SpikeHalfWidth'].dropna())))"
   ]
  },
  {
   "cell_type": "code",
   "execution_count": 13,
   "metadata": {},
   "outputs": [
    {
     "data": {
      "image/png": "[encoded data removed]",
      "text/plain": [
       "<Figure size 360x360 with 1 Axes>"
      ]
     },
     "metadata": {
      "needs_background": "light"
     },
     "output_type": "display_data"
    }
   ],
   "source": [
    "#BOXPLOT FOR SPIKE AMPLITUDE FOR CA1\n",
    "fig,ax = plt.subplots(figsize=(5,5))\n",
    "data = [allen_ca1_amplitude.dropna(), df_CA1['SpikeAmplitude'].dropna()]\n",
    "plt.boxplot(data)\n",
    "ax.set_xticklabels(['Allen Brain Neuropixels','Neuroelectro'])\n",
    "ax.set_ylabel('Spike Amplitude (m/s)')\n",
    "ax.set_title('Neuropixels vs Neuroelectro Spike Amplitude')\n",
    "ax.annotate\n",
    "plt.show()"
   ]
  },
  {
   "cell_type": "code",
   "execution_count": 14,
   "metadata": {},
   "outputs": [
    {
     "name": "stdout",
     "output_type": "stream",
     "text": [
      "Number of Neuropixels data points = 145\n",
      "Number of Neuroelectro data points = 13\n"
     ]
    }
   ],
   "source": [
    "print('Number of Neuropixels data points = ' + str(len(allen_ca1_amplitude)))\n",
    "print('Number of Neuroelectro data points = ' + str(len(df_CA1['SpikeAmplitude'].dropna())))"
   ]
  },
  {
   "cell_type": "code",
   "execution_count": 15,
   "metadata": {},
   "outputs": [
    {
     "data": {
      "image/png": "[encoded data removed]",
      "text/plain": [
       "<Figure size 360x360 with 1 Axes>"
      ]
     },
     "metadata": {
      "needs_background": "light"
     },
     "output_type": "display_data"
    }
   ],
   "source": [
    "#BOXPLOT FOR SPIKE AMPLITUDE FOR CA3\n",
    "fig,ax = plt.subplots(figsize=(5,5))\n",
    "data = [allen_ca3_amplitude.dropna(), df_CA3['SpikeAmplitude'].dropna()]\n",
    "plt.boxplot(data)\n",
    "ax.set_xticklabels(['Allen Brain Neuropixels','Neuroelectro'])\n",
    "ax.set_ylabel('Spike Amplitude (m/s)')\n",
    "ax.set_title('Neuropixels vs Neuroelectro Spike Amplitude')\n",
    "plt.show()"
   ]
  },
  {
   "cell_type": "code",
   "execution_count": 16,
   "metadata": {},
   "outputs": [
    {
     "name": "stdout",
     "output_type": "stream",
     "text": [
      "Number of Neuropixels data points = 14\n",
      "Number of Neuroelectro data points = 6\n"
     ]
    }
   ],
   "source": [
    "print('Number of Neuropixels data points = ' + str(len(allen_ca3_amplitude)))\n",
    "print('Number of Neuroelectro data points = ' + str(len(df_CA3['SpikeAmplitude'].dropna())))"
   ]
  },
  {
   "cell_type": "code",
   "execution_count": 17,
   "metadata": {},
   "outputs": [
    {
     "data": {
      "text/plain": [
       "950936572     97.998030\n",
       "950936639    193.194690\n",
       "950936710    151.189350\n",
       "950936675    253.296225\n",
       "950936656    389.819040\n",
       "950936759    187.906485\n",
       "950936870    343.088850\n",
       "950936855    290.611620\n",
       "950936727    461.618820\n",
       "950936941    181.784655\n",
       "950936979    730.104375\n",
       "950936908    144.401790\n",
       "950936992    186.037020\n",
       "950937050    150.797595\n",
       "2             85.000000\n",
       "4             80.000000\n",
       "5             74.500000\n",
       "6             92.200000\n",
       "7             73.900000\n",
       "10            76.000000\n",
       "dtype: float64"
      ]
     },
     "execution_count": 17,
     "metadata": {},
     "output_type": "execute_result"
    }
   ],
   "source": [
    "frame = [allen_ca1_firing_rate, df_CA1['FiringFrequency'].dropna()]\n",
    "df_result_CA1_firing_rate = pd.concat(frame)\n",
    "df_result_CA1_firing_rate\n",
    "\n",
    "frame = [allen_ca3_firing_rate, df_CA3['FiringFrequency'].dropna()]\n",
    "df_result_CA3_firing_rate = pd.concat(frame)\n",
    "df_result_CA3_firing_rate\n",
    "\n",
    "#merge NeuroPixels and Neuroelectro CA1 and CA3 spike half width data \n",
    "frame = [allen_ca1_half_width, df_CA1['SpikeHalfWidth'].dropna()]\n",
    "df_result_CA1_half_width = pd.concat(frame)\n",
    "df_result_CA1_half_width\n",
    "\n",
    "frame = [allen_ca3_half_width, df_CA3['SpikeHalfWidth'].dropna()]\n",
    "df_result_CA3_half_width = pd.concat(frame)\n",
    "df_result_CA3_half_width\n",
    "\n",
    "frame = [allen_ca1_amplitude, df_CA1['SpikeAmplitude'].dropna()]\n",
    "df_result_CA1_amplitude = pd.concat(frame)\n",
    "df_result_CA1_amplitude\n",
    "\n",
    "frame = [allen_ca3_amplitude, df_CA3['SpikeAmplitude'].dropna()]\n",
    "df_result_CA3_amplitude = pd.concat(frame)\n",
    "df_result_CA3_amplitude"
   ]
  },
  {
   "cell_type": "code",
   "execution_count": 18,
   "metadata": {},
   "outputs": [
    {
     "data": {
      "image/png": "[encoded data removed]",
      "text/plain": [
       "<Figure size 360x360 with 1 Axes>"
      ]
     },
     "metadata": {
      "needs_background": "light"
     },
     "output_type": "display_data"
    }
   ],
   "source": [
    "#boxplot for CA1 and CA3 firing rate data \n",
    "fig,ax = plt.subplots(figsize=(5,5))\n",
    "data = [df_result_CA1_firing_rate, df_result_CA3_firing_rate]\n",
    "plt.boxplot(data)\n",
    "for i in [1,2]:\n",
    "    y = data[i-1]\n",
    "    x = np.random.normal(i, 0.02, len(y))\n",
    "    plt.plot(x, y, 'r.', alpha=0.2)\n",
    "ax.set_xticklabels(['CA1','CA3'])\n",
    "ax.set_ylabel('Hz')\n",
    "ax.set_title('CA1 vs CA3 Firing Rate')\n",
    "plt.show()"
   ]
  },
  {
   "cell_type": "code",
   "execution_count": 19,
   "metadata": {},
   "outputs": [
    {
     "name": "stdout",
     "output_type": "stream",
     "text": [
      "Number of CA1 data points = 148\n",
      "Number of CA3 data points = 15\n"
     ]
    }
   ],
   "source": [
    "print('Number of CA1 data points = ' + str(len(df_result_CA1_firing_rate)))\n",
    "print('Number of CA3 data points = ' + str(len(df_result_CA3_firing_rate)))"
   ]
  },
  {
   "cell_type": "code",
   "execution_count": 20,
   "metadata": {},
   "outputs": [
    {
     "name": "stderr",
     "output_type": "stream",
     "text": [
      "/opt/conda/lib/python3.6/site-packages/matplotlib/cbook/__init__.py:1316: RuntimeWarning: invalid value encountered in less_equal\n",
      "  wiskhi = x[x <= hival]\n",
      "/opt/conda/lib/python3.6/site-packages/matplotlib/cbook/__init__.py:1323: RuntimeWarning: invalid value encountered in greater_equal\n",
      "  wisklo = x[x >= loval]\n",
      "/opt/conda/lib/python3.6/site-packages/matplotlib/cbook/__init__.py:1331: RuntimeWarning: invalid value encountered in less\n",
      "  x[x < stats['whislo']],\n",
      "/opt/conda/lib/python3.6/site-packages/matplotlib/cbook/__init__.py:1332: RuntimeWarning: invalid value encountered in greater\n",
      "  x[x > stats['whishi']],\n"
     ]
    },
    {
     "data": {
      "image/png": "[encoded data removed]",
      "text/plain": [
       "<Figure size 360x360 with 1 Axes>"
      ]
     },
     "metadata": {
      "needs_background": "light"
     },
     "output_type": "display_data"
    }
   ],
   "source": [
    "#boxplot for CA1 and CA3 spike half width data \n",
    "fig,ax = plt.subplots(figsize=(5,5))\n",
    "data = [df_result_CA1_half_width, df_result_CA3_half_width]\n",
    "plt.boxplot(data)\n",
    "for i in [1,2]:\n",
    "    y = data[i-1]\n",
    "    x = np.random.normal(i, 0.02, len(y))\n",
    "    plt.plot(x, y, 'r.', alpha=0.2)\n",
    "ax.set_xticklabels(['CA1','CA3'])\n",
    "ax.set_ylabel('ms')\n",
    "ax.set_title('CA1 vs CA3 Spike Half Width')\n",
    "plt.show()"
   ]
  },
  {
   "cell_type": "code",
   "execution_count": 21,
   "metadata": {},
   "outputs": [
    {
     "name": "stdout",
     "output_type": "stream",
     "text": [
      "Number of CA1 data points = 162\n",
      "Number of CA3 data points = 24\n"
     ]
    }
   ],
   "source": [
    "print('Number of CA1 data points = ' + str(len(df_result_CA1_half_width)))\n",
    "print('Number of CA3 data points = ' + str(len(df_result_CA3_half_width)))"
   ]
  },
  {
   "cell_type": "code",
   "execution_count": 22,
   "metadata": {},
   "outputs": [
    {
     "data": {
      "image/png": "[encoded data removed]",
      "text/plain": [
       "<Figure size 360x360 with 1 Axes>"
      ]
     },
     "metadata": {
      "needs_background": "light"
     },
     "output_type": "display_data"
    }
   ],
   "source": [
    "#boxplot for CA1 and CA3 spike amplitude data \n",
    "fig,ax = plt.subplots(figsize=(5,5))\n",
    "data = [df_result_CA1_amplitude, df_result_CA3_amplitude]\n",
    "plt.boxplot(data)\n",
    "for i in [1,2]:\n",
    "    y = data[i-1]\n",
    "    x = np.random.normal(i, 0.02, len(y))\n",
    "    plt.plot(x, y, 'r.', alpha=0.2)\n",
    "ax.set_xticklabels(['CA1','CA3'])\n",
    "ax.set_ylabel('ms')\n",
    "ax.set_title('CA1 vs CA3 Spike Amplitude')\n",
    "plt.show()"
   ]
  },
  {
   "cell_type": "code",
   "execution_count": 23,
   "metadata": {},
   "outputs": [
    {
     "name": "stdout",
     "output_type": "stream",
     "text": [
      "Number of CA1 data points = 158\n",
      "Number of CA3 data points = 20\n"
     ]
    }
   ],
   "source": [
    "print('Number of CA1 data points = ' + str(len(df_result_CA1_amplitude)))\n",
    "print('Number of CA3 data points = ' + str(len(df_result_CA3_amplitude)))"
   ]
  },
  {
   "cell_type": "code",
   "execution_count": 24,
   "metadata": {},
   "outputs": [
    {
     "name": "stdout",
     "output_type": "stream",
     "text": [
      "DescribeResult(nobs=17, minmax=(0.4, 1.9), mean=1.0452941176470587, variance=0.1907764705882353, skewness=0.8466614489741058, kurtosis=-0.3805757644850307)\n",
      "DescribeResult(nobs=10, minmax=(0.54, 1.7), mean=1.0270000000000001, variance=0.19708999999999996, skewness=0.3943833909947903, kurtosis=-1.1806692296973336)\n",
      "DescribeResult(nobs=3, minmax=(33.2, 206.0), mean=108.39999999999999, variance=7841.28, skewness=0.4349828375463192, kurtosis=-1.4999999999999996)\n",
      "DescribeResult(nobs=1, minmax=(118.0, 118.0), mean=118.0, variance=nan, skewness=0.0, kurtosis=-3.0)\n",
      "DescribeResult(nobs=13, minmax=(56.0, 112.0), mean=83.14307692307692, variance=273.7930730769231, skewness=0.004994652097478402, kurtosis=-0.5579066505129573)\n",
      "DescribeResult(nobs=6, minmax=(73.9, 92.2), mean=80.26666666666667, variance=51.37466666666667, skewness=0.7603035444467767, kurtosis=-0.8302627471344834)\n"
     ]
    },
    {
     "name": "stderr",
     "output_type": "stream",
     "text": [
      "/opt/conda/lib/python3.6/site-packages/numpy/core/fromnumeric.py:3506: RuntimeWarning: Degrees of freedom <= 0 for slice\n",
      "  **kwargs)\n",
      "/opt/conda/lib/python3.6/site-packages/numpy/core/_methods.py:209: RuntimeWarning: invalid value encountered in double_scalars\n",
      "  ret = ret.dtype.type(ret / rcount)\n"
     ]
    }
   ],
   "source": [
    "from scipy import stats\n",
    "print(stats.describe(df_CA1['SpikeHalfWidth'].dropna()))\n",
    "print(stats.describe(df_CA3['SpikeHalfWidth'].dropna()))\n",
    "print(stats.describe(df_CA1['FiringFrequency'].dropna()))\n",
    "print(stats.describe(df_CA3['FiringFrequency'].dropna()))\n",
    "print(stats.describe(df_CA1['SpikeAmplitude'].dropna()))\n",
    "print(stats.describe(df_CA3['SpikeAmplitude'].dropna()))"
   ]
  },
  {
   "cell_type": "code",
   "execution_count": 25,
   "metadata": {},
   "outputs": [
    {
     "name": "stdout",
     "output_type": "stream",
     "text": [
      "RanksumsResult(statistic=-0.7578201399641389, pvalue=0.44855866380054144)\n",
      "RanksumsResult(statistic=-1.1192530713723583, pvalue=0.26303219012016477)\n",
      "RanksumsResult(statistic=0.6678648215342755, pvalue=0.5042198845577079)\n"
     ]
    }
   ],
   "source": [
    "print(stats.ranksums(df_result_CA1_firing_rate, df_result_CA3_firing_rate))\n",
    "print(stats.ranksums(df_result_CA1_half_width, df_result_CA3_half_width))\n",
    "print(stats.ranksums(df_result_CA1_amplitude, df_result_CA3_amplitude))"
   ]
  },
  {
   "cell_type": "code",
   "execution_count": 26,
   "metadata": {},
   "outputs": [
    {
     "name": "stdout",
     "output_type": "stream",
     "text": [
      "0.83\n",
      "0.97\n",
      "86.0\n",
      "118.0\n",
      "82.6\n",
      "78.0\n"
     ]
    }
   ],
   "source": [
    "print(np.median(df_CA1['SpikeHalfWidth'].dropna()))\n",
    "print(np.median(df_CA3['SpikeHalfWidth'].dropna()))\n",
    "print(np.median(df_CA1['FiringFrequency'].dropna()))\n",
    "print(np.median(df_CA3['FiringFrequency'].dropna()))\n",
    "print(np.median(df_CA1['SpikeAmplitude'].dropna()))\n",
    "print(np.median(df_CA3['SpikeAmplitude'].dropna()))"
   ]
  },
  {
   "cell_type": "code",
   "execution_count": 27,
   "metadata": {},
   "outputs": [
    {
     "name": "stdout",
     "output_type": "stream",
     "text": [
      "There are 0 unique CA3 sessions in Neuropixels.\n",
      "There are 2 unique CA1 sessions in Neuropixels.\n",
      "There are 52 sessions that contain both CA1 and CA3 recordings in Neuropixels.\n"
     ]
    }
   ],
   "source": [
    "ca3_sessions = sessions[(['CA3' in acronyms for acronyms in sessions.ecephys_structure_acronyms])]\n",
    "ca3_sessions = ca3_sessions[(['CA1' not in acronyms for acronyms in ca3_sessions.ecephys_structure_acronyms])]\n",
    "ca1_sessions = sessions[(['CA1' in acronyms for acronyms in sessions.ecephys_structure_acronyms])]\n",
    "ca1_sessions = ca1_sessions[(['CA3' not in acronyms for acronyms in ca1_sessions.ecephys_structure_acronyms])]\n",
    "comb_sessions = sessions[(['CA3' and 'CA1' in acronyms for acronyms in sessions.ecephys_structure_acronyms])]\n",
    "print(\"There are \" + str(len(ca3_sessions)) + \" unique CA3 sessions in Neuropixels.\")\n",
    "print(\"There are \" + str(len(ca1_sessions)) + \" unique CA1 sessions in Neuropixels.\")\n",
    "print(\"There are \" + str(len(comb_sessions)) + \" sessions that contain both CA1 and CA3 recordings in Neuropixels.\")"
   ]
  },
  {
   "cell_type": "code",
   "execution_count": 28,
   "metadata": {},
   "outputs": [
    {
     "name": "stdout",
     "output_type": "stream",
     "text": [
      "DescribeResult(nobs=145, minmax=(0.102523817602014, 81.7015463997864), mean=7.275172183375632, variance=86.23862238276374, skewness=4.250489798409665, kurtosis=27.694442897272676)\n",
      "DescribeResult(nobs=3, minmax=(33.2, 206.0), mean=108.39999999999999, variance=7841.28, skewness=0.4349828375463192, kurtosis=-1.4999999999999996)\n",
      "DescribeResult(nobs=14, minmax=(0.309688581830122, 29.2632335146168), mean=8.715714451113053, variance=76.43595754813171, skewness=1.0103401916279207, kurtosis=0.009138094874939107)\n",
      "DescribeResult(nobs=1, minmax=(118.0, 118.0), mean=118.0, variance=nan, skewness=0.0, kurtosis=-3.0)\n"
     ]
    }
   ],
   "source": [
    "#stats for neuroelectro and allen firing rates ca3 and ca1 individually to determine intra vs extra differences\n",
    "print(stats.describe(allen_ca1_firing_rate))\n",
    "print(stats.describe(df_CA1['FiringFrequency'].dropna()))\n",
    "print(stats.describe(allen_ca3_firing_rate))\n",
    "print(stats.describe(df_CA3['FiringFrequency'].dropna()))"
   ]
  },
  {
   "cell_type": "code",
   "execution_count": 29,
   "metadata": {},
   "outputs": [
    {
     "name": "stdout",
     "output_type": "stream",
     "text": [
      "DescribeResult(nobs=145, minmax=(0.109882747068677, 1.22244556113903), mean=0.25026742909952054, variance=0.032573842802689094, skewness=3.7443826316678277, kurtosis=14.625889553018734)\n",
      "DescribeResult(nobs=17, minmax=(0.4, 1.9), mean=1.0452941176470587, variance=0.1907764705882353, skewness=0.8466614489741058, kurtosis=-0.3805757644850307)\n",
      "DescribeResult(nobs=14, minmax=(nan, nan), mean=nan, variance=nan, skewness=nan, kurtosis=nan)\n",
      "DescribeResult(nobs=10, minmax=(0.54, 1.7), mean=1.0270000000000001, variance=0.19708999999999996, skewness=0.3943833909947903, kurtosis=-1.1806692296973336)\n"
     ]
    }
   ],
   "source": [
    "#stats for neuroelectro and allen half widths ca3 and ca1 individually to determine intra vs extra differences\n",
    "print(stats.describe(allen_ca1_half_width))\n",
    "print(stats.describe(df_CA1['SpikeHalfWidth'].dropna()))\n",
    "print(stats.describe(allen_ca3_half_width))\n",
    "print(stats.describe(df_CA3['SpikeHalfWidth'].dropna()))"
   ]
  },
  {
   "cell_type": "code",
   "execution_count": 30,
   "metadata": {},
   "outputs": [
    {
     "name": "stdout",
     "output_type": "stream",
     "text": [
      "DescribeResult(nobs=145, minmax=(49.34397, 704.97297), mean=225.32777710344828, variance=16051.637455394857, skewness=1.0817658717358247, kurtosis=1.0597470454554587)\n",
      "DescribeResult(nobs=13, minmax=(56.0, 112.0), mean=83.14307692307692, variance=273.7930730769231, skewness=0.004994652097478402, kurtosis=-0.5579066505129573)\n",
      "DescribeResult(nobs=14, minmax=(97.9980299999999, 730.104375), mean=268.7034675, variance=28457.50871873959, skewness=1.5841366742465814, kurtosis=1.9719072940247493)\n",
      "DescribeResult(nobs=6, minmax=(73.9, 92.2), mean=80.26666666666667, variance=51.37466666666667, skewness=0.7603035444467767, kurtosis=-0.8302627471344834)\n"
     ]
    }
   ],
   "source": [
    "#stats for neuroelectro and allen spike amplitudes ca3 and ca1 individually to determine intra vs extra differences\n",
    "print(stats.describe(allen_ca1_amplitude.dropna()))\n",
    "print(stats.describe(df_CA1['SpikeAmplitude'].dropna()))\n",
    "print(stats.describe(allen_ca3_amplitude.dropna()))\n",
    "print(stats.describe(df_CA3['SpikeAmplitude'].dropna()))"
   ]
  },
  {
   "cell_type": "code",
   "execution_count": 31,
   "metadata": {},
   "outputs": [
    {
     "name": "stdout",
     "output_type": "stream",
     "text": [
      "RanksumsResult(statistic=-2.9322441926883016, pvalue=0.003365220285786965)\n",
      "RanksumsResult(statistic=-1.6201851746019649, pvalue=0.10519250512004145)\n"
     ]
    }
   ],
   "source": [
    "#stats for individual CA1 and CA3 combined data sets for firing frequency\n",
    "print(stats.ranksums(allen_ca1_firing_rate, df_CA1['FiringFrequency'].dropna()))\n",
    "print(stats.ranksums(allen_ca3_firing_rate, df_CA3['FiringFrequency'].dropna()))"
   ]
  },
  {
   "cell_type": "code",
   "execution_count": 32,
   "metadata": {},
   "outputs": [
    {
     "name": "stdout",
     "output_type": "stream",
     "text": [
      "RanksumsResult(statistic=-6.342106107941887, pvalue=2.266451202563519e-10)\n",
      "RanksumsResult(statistic=-2.6349301969610393, pvalue=0.008415458738002157)\n"
     ]
    }
   ],
   "source": [
    "#stats for individual CA1 and CA3 combined data sets for spike half width\n",
    "print(stats.ranksums(allen_ca1_half_width, df_CA1['SpikeHalfWidth'].dropna()))\n",
    "print(stats.ranksums(allen_ca3_half_width, df_CA3['SpikeHalfWidth'].dropna()))"
   ]
  },
  {
   "cell_type": "code",
   "execution_count": 33,
   "metadata": {},
   "outputs": [
    {
     "name": "stdout",
     "output_type": "stream",
     "text": [
      "RanksumsResult(statistic=4.995609903945341, pvalue=5.865011054286026e-07)\n",
      "RanksumsResult(statistic=3.464101615137755, pvalue=0.0005320055051392492)\n"
     ]
    }
   ],
   "source": [
    "#stats for individual CA1 and CA3 combined data sets for spike amplitude\n",
    "print(stats.ranksums(allen_ca1_amplitude.dropna(), df_CA1['SpikeAmplitude'].dropna()))\n",
    "print(stats.ranksums(allen_ca3_amplitude.dropna(), df_CA3['SpikeAmplitude'].dropna()))"
   ]
  },
  {
   "cell_type": "markdown",
   "metadata": {},
   "source": [
    "## Conclusion & Discussion"
   ]
  },
  {
   "cell_type": "markdown",
   "metadata": {},
   "source": [
    "hello it's me"
   ]
  },
  {
   "cell_type": "code",
   "execution_count": null,
   "metadata": {},
   "outputs": [],
   "source": []
  }
 ],
 "metadata": {
  "kernelspec": {
   "display_name": "Python 3",
   "language": "python",
   "name": "python3"
  },
  "language_info": {
   "codemirror_mode": {
    "name": "ipython",
    "version": 3
   },
   "file_extension": ".py",
   "mimetype": "text/x-python",
   "name": "python",
   "nbconvert_exporter": "python",
   "pygments_lexer": "ipython3",
   "version": "3.6.7"
  }
 },
 "nbformat": 4,
 "nbformat_minor": 2
}
